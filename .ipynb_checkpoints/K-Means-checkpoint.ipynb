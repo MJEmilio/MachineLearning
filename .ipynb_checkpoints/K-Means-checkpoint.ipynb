{
 "cells": [
  {
   "cell_type": "markdown",
   "metadata": {},
   "source": [
    "# K-Means"
   ]
  },
  {
   "cell_type": "code",
   "execution_count": 2,
   "metadata": {},
   "outputs": [],
   "source": [
    "import numpy as np\n",
    "\n",
    "class kmeans:\n",
    "\t\"\"\" The k-Means algorithm\"\"\"\n",
    "\tdef __init__(self,k,data):\n",
    "\n",
    "\t\tself.nData = np.shape(data)[0]\n",
    "\t\tself.nDim = np.shape(data)[1]\n",
    "\t\tself.k = k\n",
    "\t\t\n",
    "\tdef kmeanstrain(self,data,maxIterations=10):\n",
    "\t\t\n",
    "\t\t# Find the minimum and maximum values for each feature\n",
    "\t\tminima = data.min(axis=0)\n",
    "\t\tmaxima = data.max(axis=0)\n",
    "\t\n",
    "\t\t# Pick the centre locations randomly\n",
    "\t\tself.centres = np.random.rand(self.k,self.nDim)*(maxima-minima)+minima\n",
    "\t\toldCentres = np.random.rand(self.k,self.nDim)*(maxima-minima)+minima\n",
    "\t\n",
    "\t\tcount = 0\n",
    "\t\t#print centres\n",
    "\t\twhile np.sum(np.sum(oldCentres-self.centres))!= 0 and count<maxIterations:\n",
    "\t\n",
    "\t\t\toldCentres = self.centres.copy()\n",
    "\t\t\tcount += 1\n",
    "\t\n",
    "\t\t\t# Compute distances\n",
    "\t\t\tdistances = np.ones((1,self.nData))*np.sum((data-self.centres[0,:])**2,axis=1)\n",
    "\t\t\tfor j in range(self.k-1):\n",
    "\t\t\t\tdistances = np.append(distances,np.ones((1,self.nData))*np.sum((data-self.centres[j+1,:])**2,axis=1),axis=0)\n",
    "\t\n",
    "\t\t\t# Identify the closest cluster\n",
    "\t\t\tcluster = distances.argmin(axis=0)\n",
    "\t\t\tcluster = np.transpose(cluster*np.ones((1,self.nData)))\n",
    "\t\n",
    "\t\t\t# Update the cluster centres\t\n",
    "\t\t\tfor j in range(self.k):\n",
    "\t\t\t\tthisCluster = np.where(cluster==j,1,0)\n",
    "\t\t\t\tif sum(thisCluster)>0:\n",
    "\t\t\t\t\tself.centres[j,:] = np.sum(data*thisCluster,axis=0)/np.sum(thisCluster)\n",
    "\t\t\t#plot(data[:,0],data[:,1],'kx')\n",
    "\t\t\t#plot(centres[:,0],centres[:,1],'ro')\n",
    "\t\treturn self.centres\n",
    "\t\n",
    "\tdef kmeansfwd(self,data):\n",
    "\t\t\n",
    "\t\tnData = np.shape(data)[0]\n",
    "\t\t# Compute distances\n",
    "\t\tdistances = np.ones((1,nData))*np.sum((data-self.centres[0,:])**2,axis=1)\n",
    "\t\tfor j in range(self.k-1):\n",
    "\t\t\tdistances = np.append(distances,np.ones((1,nData))*np.sum((data-self.centres[j+1,:])**2,axis=1),axis=0)\n",
    "\t\n",
    "\t\t# Identify the closest cluster\n",
    "\t\tcluster = distances.argmin(axis=0)\n",
    "\t\tcluster = np.transpose(cluster*np.ones((1,nData)))\n",
    "\t\n",
    "\t\treturn cluster\n"
   ]
  },
  {
   "cell_type": "code",
   "execution_count": null,
   "metadata": {},
   "outputs": [],
   "source": []
  }
 ],
 "metadata": {
  "kernelspec": {
   "display_name": "Python 2",
   "language": "python",
   "name": "python2"
  },
  "language_info": {
   "codemirror_mode": {
    "name": "ipython",
    "version": 2
   },
   "file_extension": ".py",
   "mimetype": "text/x-python",
   "name": "python",
   "nbconvert_exporter": "python",
   "pygments_lexer": "ipython2",
   "version": "2.7.15"
  }
 },
 "nbformat": 4,
 "nbformat_minor": 2
}
