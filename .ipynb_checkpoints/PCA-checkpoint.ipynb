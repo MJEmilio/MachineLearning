{
 "cells": [
  {
   "cell_type": "markdown",
   "metadata": {},
   "source": [
    "# Principal Components Analysis (PCA)\n",
    "- The next method that we are going to look at is involved in computing transformations of the data in order to identify a lower-dimensional set of axes.\n",
    "- PCA looks for dimensions of greatest variance."
   ]
  },
  {
   "cell_type": "markdown",
   "metadata": {},
   "source": [
    "We have a data matrix $X$ and we want to rotate it so\n",
    "that the data lies along the directions of maximum variation. This means that we multiply our data matrix by a rotation matrix (often written as $P^T$ ) so that $Y = P^T X$, where $P$ is chosen so that the covariance matrix of $Y$ is diagonal, ie.,\n",
    "\n",
    "\n",
    "\\begin{equation}\n",
    "cov(Y)= cov(P^{T}X) =\n",
    "\\begin{pmatrix}\n",
    "\\lambda_1 & 0 & 0 & ... & 0\\\\\n",
    "   0 & \\lambda_2 & 0 & ... & 0\\\\\n",
    "   ... & ... & ... & ... & ...\\\\\n",
    "   0 & 0 & 0 & ... & \\lambda_N\n",
    "\\end{pmatrix} \n",
    "\\end{equation}. \n",
    "\n",
    "\n",
    "\\begin{align}\n",
    "cov(Y) &= E[YY^T] \\\\\n",
    "&= E[(P^{T}X)(P^{T}X)^T] \\\\\n",
    "&= E[(P^{T}X)(X^{T}P)] \\\\\n",
    "&= P^{T}E(XX^T)P \\\\\n",
    "&= P^{T}cov(X)P \\\\\n",
    "Pcov(Y) &= PP^{T}cov(X)P \\\\\n",
    "Pcov(Y) &= cov(X)P \\\\\n",
    "\\end{align}\n",
    "\n",
    "As $cov(Y)$ is diagonal, if we write $P$ as a set of column vectors $P = [p_1 , p_2 , . . . , p_N]$ then:\n",
    "\n",
    "\n",
    "\\begin{equation} \n",
    "Pcov(Y) = [\\lambda_1 p_1, \\lambda_2 p_2,...\\lambda_N p_N], \n",
    "\\end{equation} \n",
    "\n",
    "\n",
    "which (by writing the $\\lambda$ variables in a matrix as $\\lambda = (\\lambda_1, \\lambda_2,...,\\lambda_N)^T$ and $Z = cov(X))$ leads to a very interesting equation:\n",
    "\n",
    "\\begin{equation} \n",
    "\\lambda p_i = Zpi \\text{ for each } p_i.\n",
    "\\end{equation} \n",
    "\n",
    "Since $\\lambda$ is only a column vector, all it does is rescale the $p_i s$; it cannot\n",
    "rotate it or do anything complicated like that. So this tells us that somehow we have found\n",
    "a matrix $P$ so that for the directions that $P$ is written in, the matrix $Z$ does not twist\n",
    "or rotate those directions, but just rescales them. These directions are special enough that\n",
    "they have a name: they are $eigenvectors$, and the amount that they rescale the axes (the\n",
    "$\\lambda_s$) by are known as eigenvalues.\n",
    "\n",
    "If we make a matrix $E$ that contains the (normalised)\n",
    "eigenvectors of a matrix $A$ as columns, then this matrix will take any vector and rotate\n",
    "it into what is known as the eigenspace. Since $E$ is a rotation matrix, $E^{-1} = E^T$ , so that\n",
    "rotating the resultant vector back out of the eigenspace requires multiplying it by $E^T$ , where\n",
    "by ‘normalised’, I mean that the eigenvectors are made unit length. So what should we do\n",
    "between rotating the vector into the eigenspace, and rotating it back out? The answer is\n",
    "that we can stretch the vectors along the axes. This is done by multiplying the vector by a diagonal matrix that has the eigenvalues along its diagonal, $D$. So we can decompose any\n",
    "square symmetric matrix A into the following set of matrices: $A = EDE^T$ , and this is what\n",
    "we have done to our covariance matrix above. This is called the spectral decomposition."
   ]
  },
  {
   "cell_type": "code",
   "execution_count": 1,
   "metadata": {},
   "outputs": [
    {
     "name": "stdout",
     "output_type": "stream",
     "text": [
      "[[5.1 3.5 1.4 0.2]\n",
      " [4.9 3.  1.4 0.2]\n",
      " [4.7 3.2 1.3 0.2]\n",
      " [4.6 3.1 1.5 0.2]\n",
      " [5.  3.6 1.4 0.2]]\n"
     ]
    }
   ],
   "source": [
    "import numpy as np\n",
    "import matplotlib.pyplot as plt\n",
    "import matplotlib as mpl\n",
    "mpl.rcParams['figure.figsize'] = 3, 2\n",
    "mpl.rcParams['figure.dpi'] = 150\n",
    "mpl.rcParams['font.size'] = 8\n",
    "\n",
    "from sklearn import datasets\n",
    "\n",
    "iris = datasets.load_iris()\n",
    "data = iris.data\n",
    "labels = iris.target\n",
    "Ndata = np.shape(data)[0]\n",
    "target_ids=[0,1,2]\n",
    "print(data[:5])"
   ]
  },
  {
   "cell_type": "markdown",
   "metadata": {},
   "source": [
    "## The Principal Components Analysis Algorithm"
   ]
  },
  {
   "cell_type": "markdown",
   "metadata": {},
   "source": [
    "- Write $N$ datapoints $x_i = (x_{1i} , x_{2i} , . . . , x_{Mi} )$ as row vectors\n",
    "- Put these vectors into a matrix $X$ (which will have size $N × M$ )\n",
    "- Centre the data by subtracting off the mean of each column, putting it into matrix $B$"
   ]
  },
  {
   "cell_type": "code",
   "execution_count": 2,
   "metadata": {},
   "outputs": [
    {
     "name": "stdout",
     "output_type": "stream",
     "text": [
      "[5.84333333 3.05733333 3.758      1.19933333]\n"
     ]
    }
   ],
   "source": [
    "m = np.mean(data, axis=0)\n",
    "data -=m\n",
    "print(m)"
   ]
  },
  {
   "cell_type": "markdown",
   "metadata": {},
   "source": [
    "- Compute the covariance matrix $C =\\frac{1}{N}B^TB$"
   ]
  },
  {
   "cell_type": "code",
   "execution_count": 3,
   "metadata": {},
   "outputs": [
    {
     "name": "stdout",
     "output_type": "stream",
     "text": [
      "[[ 0.68569351 -0.042434    1.27431544  0.51627069]\n",
      " [-0.042434    0.18997942 -0.32965638 -0.12163937]\n",
      " [ 1.27431544 -0.32965638  3.11627785  1.2956094 ]\n",
      " [ 0.51627069 -0.12163937  1.2956094   0.58100626]]\n",
      "[[ 0.68569351 -0.042434    1.27431544  0.51627069]\n",
      " [-0.042434    0.18997942 -0.32965638 -0.12163937]\n",
      " [ 1.27431544 -0.32965638  3.11627785  1.2956094 ]\n",
      " [ 0.51627069 -0.12163937  1.2956094   0.58100626]]\n"
     ]
    }
   ],
   "source": [
    "C = np.cov(data.T)\n",
    "\n",
    "print( np.matmul(data.T, data)/(len(data[:,0])-1) )\n",
    "print(C)"
   ]
  },
  {
   "cell_type": "markdown",
   "metadata": {},
   "source": [
    "- Compute the eigenvalues and eigenvectors of $C$, so $V^{−1} CV = D$, where $V$ holds the\n",
    "eigenvectors of $C$ and $D$ is the $M × M$ diagonal eigenvalue matrix\n",
    "- Sort the columns of $D$ into order of decreasing eigenvalues, and apply the same order\n",
    "to the columns of $V$\n",
    "- Reject those with eigenvalue less than some $\\eta$, leaving $L$ dimensions in the data\n"
   ]
  },
  {
   "cell_type": "code",
   "execution_count": 4,
   "metadata": {},
   "outputs": [
    {
     "name": "stdout",
     "output_type": "stream",
     "text": [
      "[4.22824171 0.24267075 0.0782095  0.02383509]\n",
      "[0 1 2 3] [4.22824171 0.24267075 0.0782095  0.02383509]\n",
      "[[ 0.36138659 -0.65658877 -0.58202985  0.31548719]\n",
      " [-0.08452251 -0.73016143  0.59791083 -0.3197231 ]\n",
      " [ 0.85667061  0.17337266  0.07623608 -0.47983899]\n",
      " [ 0.3582892   0.07548102  0.54583143  0.75365743]]\n"
     ]
    }
   ],
   "source": [
    "evals,evecs = np.linalg.eig(C)\n",
    "print(evals)\n",
    "indices = np.argsort(evals)\n",
    "indices = indices[::-1]\n",
    "evecs = evecs[:,indices]\n",
    "evals = evals[indices]\n",
    "print(indices, evals)\n",
    "print(evecs)\n"
   ]
  },
  {
   "cell_type": "code",
   "execution_count": 5,
   "metadata": {},
   "outputs": [
    {
     "name": "stdout",
     "output_type": "stream",
     "text": [
      "evecs.T: \n",
      " [[ 0.36138659 -0.08452251  0.85667061  0.3582892 ]\n",
      " [-0.65658877 -0.73016143  0.17337266  0.07548102]\n",
      " [-0.58202985  0.59791083  0.07623608  0.54583143]\n",
      " [ 0.31548719 -0.3197231  -0.47983899  0.75365743]]\n",
      "data.T: \n",
      " [[-0.74333333 -0.94333333 -1.14333333 -1.24333333 -0.84333333]\n",
      " [ 0.44266667 -0.05733333  0.14266667  0.04266667  0.54266667]\n",
      " [-2.358      -2.358      -2.458      -2.258      -2.358     ]\n",
      " [-0.99933333 -0.99933333 -0.99933333 -0.99933333 -0.99933333]]\n",
      "n.T:\n",
      " [[-2.68412563e+00 -3.19397247e-01 -2.79148276e-02  2.26243707e-03]\n",
      " [-2.71414169e+00  1.77001225e-01 -2.10464272e-01  9.90265503e-02]\n",
      " [-2.88899057e+00  1.44949426e-01  1.79002563e-02  1.99683897e-02]\n",
      " [-2.74534286e+00  3.18298979e-01  3.15593736e-02 -7.55758166e-02]\n",
      " [-2.72871654e+00 -3.26754513e-01  9.00792406e-02 -6.12585926e-02]]\n"
     ]
    },
    {
     "data": {
      "image/png": "[encoded data removed]",
      "text/plain": [
       "<matplotlib.figure.Figure at 0x7f2d25823a90>"
      ]
     },
     "metadata": {
      "needs_background": "light"
     },
     "output_type": "display_data"
    }
   ],
   "source": [
    "#Produce the new data matrix\n",
    "n = np.dot(evecs.T, data.T) \n",
    "print('evecs.T: \\n',evecs.T)\n",
    "print ('data.T: \\n',data.T[:,:5])\n",
    "print ('n.T:\\n',n.T[:5,:])\n",
    "\n",
    "colors = ['navy', 'turquoise', 'darkorange']\n",
    "\n",
    "for i, c,label in zip(target_ids, colors,iris.target_names):\n",
    "    plt.scatter(n[0,i == labels],n[1,i == labels], c = c,  edgecolors='black', s=215,label=label, marker='.')\n",
    "plt.legend()\n",
    "plt.show()"
   ]
  },
  {
   "cell_type": "code",
   "execution_count": 6,
   "metadata": {},
   "outputs": [
    {
     "data": {
      "image/png": "[encoded data removed]",
      "text/plain": [
       "<matplotlib.figure.Figure at 0x7f2d250d8908>"
      ]
     },
     "metadata": {
      "needs_background": "light"
     },
     "output_type": "display_data"
    }
   ],
   "source": [
    "from sklearn.decomposition import PCA\n",
    "\n",
    "X = iris.data\n",
    "y = iris.target\n",
    "\n",
    "pca = PCA(n_components=2).fit(X)\n",
    "\n",
    "X_pca = pca.transform(X)\n",
    "\n",
    "n = np.unique(iris.target_names)\n",
    "\n",
    "for i, c, label in zip(target_ids, colors, iris.target_names):\n",
    "    plt.scatter(X_pca[i == labels, 0],X_pca[i == labels, 1], c = c,  edgecolors='black', s=215,label=label, marker='.')\n",
    "plt.legend()\n",
    "plt.show()\n"
   ]
  },
  {
   "cell_type": "markdown",
   "metadata": {},
   "source": [
    "## References\n",
    "[\n",
    "Machine Learning: An Algorithmic Perspective: Stephen Marsland ](http://dai.fmph.uniba.sk/courses/ICI/References/marsland.machine-learning.2ed.2015.pdf)"
   ]
  }
 ],
 "metadata": {
  "kernelspec": {
   "display_name": "Python 3",
   "language": "python",
   "name": "python3"
  },
  "language_info": {
   "codemirror_mode": {
    "name": "ipython",
    "version": 3
   },
   "file_extension": ".py",
   "mimetype": "text/x-python",
   "name": "python",
   "nbconvert_exporter": "python",
   "pygments_lexer": "ipython3",
   "version": "3.6.6"
  }
 },
 "nbformat": 4,
 "nbformat_minor": 2
}
