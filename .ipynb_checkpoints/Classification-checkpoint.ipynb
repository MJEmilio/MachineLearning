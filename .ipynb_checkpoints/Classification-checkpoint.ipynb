{
 "cells": [
  {
   "cell_type": "markdown",
   "metadata": {},
   "source": [
    "# Machine learning classification\n",
    "\n",
    "- __Classification__: Predictiong a discret random variable $Y$ from another random variable $X$.\n",
    "\n",
    "Consider data $(X_1, Y_1) ,\\dotsc, (X_n, Y_n)$ where\n",
    "\n",
    "$$ X_i = (X_{i1}, \\dotsc ,X_{id} \\in \\mathcal{X} \\subset \\mathbb{R}^d )$$\n",
    "\n",
    "is a _d - dimensional_ vector and y_i takes calues in some finite set $\\mathcal{Y}$. A clasification rule is a function $h :  \\mathcal{X} \\to \\mathcal{Y}$. When we observe a new x we predict y to be $h(x)$."
   ]
  }
 ],
 "metadata": {
  "kernelspec": {
   "display_name": "Python 3",
   "language": "python",
   "name": "python3"
  },
  "language_info": {
   "codemirror_mode": {
    "name": "ipython",
    "version": 3
   },
   "file_extension": ".py",
   "mimetype": "text/x-python",
   "name": "python",
   "nbconvert_exporter": "python",
   "pygments_lexer": "ipython3",
   "version": "3.6.6"
  }
 },
 "nbformat": 4,
 "nbformat_minor": 2
}
