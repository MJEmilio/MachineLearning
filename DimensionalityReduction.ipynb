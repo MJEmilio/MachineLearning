{
 "cells": [
  {
   "cell_type": "markdown",
   "metadata": {},
   "source": [
    "# Dimensionality Reduction\n",
    "\n",
    "When looking at data and plotting results, we can never go beyond three dimensions in our\n",
    "data, and usually find two dimensions easier to interpret. In addition, we have already seen\n",
    "the curse of dimensionality means that the higher the number of dimensions\n",
    "we have, the more training data we need. Further, the dimensionality is an explicit factor for\n",
    "the computational cost of many algorithms. These are some of the reasons why dimensionality\n",
    "reduction is useful. However, it can also remove noise, significantly improve the results\n",
    "of the learning algorithm, make the dataset easier to work with, and make the results\n",
    "easier to understand."
   ]
  },
  {
   "cell_type": "code",
   "execution_count": 1,
   "metadata": {},
   "outputs": [],
   "source": [
    "import numpy as np\n",
    "import matplotlib.pyplot as plt\n",
    "from time import time\n",
    "import matplotlib as mpl\n",
    "mpl.rcParams['figure.figsize'] = 3, 2\n",
    "mpl.rcParams['figure.dpi'] = 150\n",
    "mpl.rcParams['font.size'] = 8"
   ]
  },
  {
   "cell_type": "markdown",
   "metadata": {},
   "source": [
    "## Linear Discriminant Analysis (LDA)\n",
    "- The covariance matrix can tell us about the scatter within a dataset, which is the amount of spread that there is within the data. The way to find this scatter is to multiply\n",
    "the covariance by the $p_c$ , the probability of the class (that is, the number of datapoints\n",
    "there are in that class divided by the total number). Adding the values of this for all of the\n",
    "classes gives us a measure of the **within-class scatter** of the dataset:"
   ]
  },
  {
   "cell_type": "markdown",
   "metadata": {},
   "source": [
    "\\begin{align}\n",
    "S_W = \\sum_{c \\in classes} \\sum_{j \\in c} p_c(x_j - \\mu_c)(x_j - \\mu_c)^T .\n",
    "\\end{align}"
   ]
  },
  {
   "cell_type": "code",
   "execution_count": 2,
   "metadata": {},
   "outputs": [
    {
     "name": "stdout",
     "output_type": "stream",
     "text": [
      "Sw: \n",
      "[[0.04141633 0.03343265 0.00537959 0.00351565]\n",
      " [0.03343265 0.0483932  0.00389388 0.00381224]\n",
      " [0.00537959 0.00389388 0.01003537 0.00189932]\n",
      " [0.00351565 0.00381224 0.00189932 0.00383129]]\n",
      "Sw: \n",
      "[[0.13022721 0.06182721 0.06634558 0.02210884]\n",
      " [0.06182721 0.08121633 0.0314449  0.01754694]\n",
      " [0.06634558 0.0314449  0.08364082 0.02626667]\n",
      " [0.02210884 0.01754694 0.02626667 0.01686667]]\n",
      "Sw: \n",
      "[[0.26500816 0.09308163 0.16744218 0.03847347]\n",
      " [0.09308163 0.11588435 0.0552381  0.03342313]\n",
      " [0.16744218 0.0552381  0.18517007 0.0425415 ]\n",
      " [0.03847347 0.03342313 0.0425415  0.04201088]]\n",
      "sb\n",
      "[[ 0.42141422 -0.13022667  1.10109778  0.47575378]\n",
      " [-0.13022667  0.073184   -0.37370133 -0.14994933]\n",
      " [ 1.10109778 -0.37370133  2.91095822  1.24605422]\n",
      " [ 0.47575378 -0.14994933  1.24605422  0.53736089]] \n",
      "\n",
      "[[ 0.42068535 -0.13235009  1.10624015  0.47843033]\n",
      " [-0.13235009  0.07211967 -0.37695085 -0.15140434]\n",
      " [ 1.10624015 -0.37695085  2.92800935  1.25384598]\n",
      " [ 0.47843033 -0.15140434  1.25384598  0.54040343]]\n"
     ]
    }
   ],
   "source": [
    "from sklearn import datasets\n",
    "\n",
    "iris = datasets.load_iris()\n",
    "data = iris.data\n",
    "labels = iris.target\n",
    "target_ids = np.unique(labels)#labels = array([0, 1, 2])\n",
    "Ndata = np.shape(data)[0]\n",
    "Sw = np.zeros((4, 4))\n",
    "sb = 0\n",
    "mc = np.mean(data, axis=0)\n",
    "\n",
    "C = np.cov(np.transpose(data))\n",
    "# Loop over classes\n",
    "classes = np.unique(labels)\n",
    "for i in range(len(classes)):\n",
    "# Find relevant datapoints\n",
    "    indices = np.squeeze(np.where(labels==classes[i]))\n",
    "    d = np.squeeze(data[indices,:])\n",
    "    classcov = np.cov(d.T)\n",
    "    Sw += np.float(np.shape(indices)[0])/Ndata * classcov\n",
    "    m = np.mean(d, axis=0)\n",
    "    sb += np.dot( (m-mc).reshape(4,1) , (m-mc).reshape(1,4) )/3\n",
    "    print 'Sw: \\n',Sw\n",
    "\n",
    "print 'sb\\n',sb,'\\n'\n",
    "print C - Sw"
   ]
  },
  {
   "cell_type": "markdown",
   "metadata": {},
   "source": [
    "If our dataset is easy to separate into classes, then this within-class scatter should be\n",
    "small, so that each class is tightly clustered together. However, to be able to separate the\n",
    "data, we also want the distance between the classes to be large. This is known as the **between-\n",
    "classes scatter** and is a significantly simpler computation, simply looking at the difference\n",
    "in the means:\n",
    "\n",
    "\\begin{align}\n",
    "S_B = \\sum_{c \\in classes} (\\mu_c - \\mu)(\\mu_c - \\mu)^T .\n",
    "\\end{align}\n"
   ]
  },
  {
   "cell_type": "code",
   "execution_count": 3,
   "metadata": {},
   "outputs": [],
   "source": [
    "Sb = C - Sw"
   ]
  },
  {
   "cell_type": "markdown",
   "metadata": {},
   "source": [
    "The argument about good separation suggests that datasets that are easy to separate into the different classes\n",
    "should have  $S_B /S_W$ as large as possible.\n",
    "\n",
    "The projection of\n",
    "the data can be written as $z = w^T \\cdot x$ for datapoint $x$. \n",
    "\n",
    "Replacing $x_j$ with $w^T \\cdot x_j$, we can use some linear algebra to get:\n",
    "\n",
    "\\begin{align}\n",
    "\\sum_{c \\in classes} \\sum_{j \\in c}\n",
    "p_c(w^T \\cdot (x_j - \\mu_c))(w^{T} \\cdot (x_j - \\mu_c))^T = w^T S_W w\n",
    "\\end{align}\n",
    "\n",
    "\\begin{align}\n",
    "\\sum_{c \\in classes}\n",
    "w^T (\\mu_c - \\mu)(\\mu_c - \\mu)^Tw = w^T S_B w .\n",
    "\\end{align}"
   ]
  },
  {
   "cell_type": "markdown",
   "metadata": {},
   "source": [
    "So our ratio of within-class and between-class scatter looks like:\n",
    "\n",
    "\\begin{align}\n",
    "\\frac{w^T S_W w}{w^T S_B w}.\n",
    "\\end{align}"
   ]
  },
  {
   "cell_type": "markdown",
   "metadata": {},
   "source": [
    "In order to find the maximum value of this with respect to $w$, we differentiate it and set\n",
    "the derivative equal to 0. This tells us that:\n",
    "\n",
    "\\begin{align}\n",
    "\\frac{S_B w(w^TS_W w)-S_W w(w^T S_B w)}{(w^T S_W w)^2}S_B w = 0 .\n",
    "\\end{align}\n",
    "\n",
    "So we just need to solve this equation for w and we are done. We start with a little bit\n",
    "of rearranging to get:\n",
    "\n",
    "\\begin{align}\n",
    "S_Ww = \\frac{w^T S_W w}{w^T S_B w}S_B w.\n",
    "\\end{align}\n",
    "\n",
    "Finding the minimum requires computing the generalised eigenvectors of $S_W^{-1} S_B$"
   ]
  },
  {
   "cell_type": "code",
   "execution_count": 4,
   "metadata": {},
   "outputs": [],
   "source": [
    "evals,evecs = np.linalg.eig(np.linalg.inv(Sw).dot(Sb))"
   ]
  },
  {
   "cell_type": "code",
   "execution_count": 5,
   "metadata": {},
   "outputs": [
    {
     "name": "stdout",
     "output_type": "stream",
     "text": [
      "[[ -2.99753234   1.03446995  -7.91107272  -3.37888911]\n",
      " [ -5.54545658   2.11017676 -14.90561732  -6.29698729]\n",
      " [  7.92118614  -2.82697492  21.06840824   8.97631876]\n",
      " [ 10.52401558  -3.36743571  27.61482325  11.87787436]]\n"
     ]
    }
   ],
   "source": [
    "print np.linalg.inv(Sw).dot(Sb)"
   ]
  },
  {
   "cell_type": "code",
   "execution_count": 6,
   "metadata": {},
   "outputs": [
    {
     "name": "stdout",
     "output_type": "stream",
     "text": [
      "[[ 19.36739692   1.90793526  -7.45325919 -15.59113551]\n",
      " [ -4.57143335  -0.33690072   1.77846921   3.80794739]\n",
      " [ -8.90087313  -0.84024502   3.42328384   7.20521713]\n",
      " [ 15.4052517    1.49874302  -5.92678847 -12.44453673]]\n"
     ]
    }
   ],
   "source": [
    "print evecs.dot(np.linalg.inv(Sw).dot(Sb)).dot(evecs.T)"
   ]
  },
  {
   "cell_type": "code",
   "execution_count": 7,
   "metadata": {},
   "outputs": [
    {
     "name": "stdout",
     "output_type": "stream",
     "text": [
      "[[ 3.18253543e+01  6.95652174e+00 -3.20000000e+01 -0.00000000e+00]\n",
      " [ 7.57038123e+00  2.60418315e-01  1.42224013e-01  2.12365591e-01]\n",
      " [-5.00312500e+01  1.40650141e-01 -1.34228188e-02 -1.34228188e-02]\n",
      " [-1.92857143e+00  2.72255068e-01 -1.34228188e-02 -1.34228188e-02]]\n"
     ]
    }
   ],
   "source": [
    "print evecs.T.dot(Sb).dot(evecs)/evecs.T.dot(Sw).dot(evecs)"
   ]
  },
  {
   "cell_type": "code",
   "execution_count": 8,
   "metadata": {},
   "outputs": [
    {
     "data": {
      "text/plain": [
       "array([ 3.18253543e+01,  2.60418315e-01, -1.34228188e-02, -1.34228188e-02])"
      ]
     },
     "execution_count": 8,
     "metadata": {},
     "output_type": "execute_result"
    }
   ],
   "source": [
    "evals"
   ]
  },
  {
   "cell_type": "code",
   "execution_count": 9,
   "metadata": {},
   "outputs": [],
   "source": [
    "evals,evecs = np.linalg.eig(np.linalg.inv(Sw).dot(Sb))\n",
    "indices = np.argsort(evals)\n",
    "indices = indices[::-1]\n",
    "evecs = evecs[:,indices]\n",
    "evals = evals[indices]\n",
    "w = evecs[:,:2]\n",
    "lda = np.dot(data,w)"
   ]
  },
  {
   "cell_type": "code",
   "execution_count": 10,
   "metadata": {},
   "outputs": [],
   "source": [
    "def pl_sc(target_ids, n):\n",
    "    colors = ['navy', 'turquoise', 'darkorange']\n",
    "\n",
    "    for i, c,label in zip(target_ids, colors, iris.target_names):\n",
    "        plt.scatter(n[i == labels, 0], n[i == labels, 1], c = c,label=label, marker='.')\n",
    "    plt.legend()\n",
    "    plt.show()"
   ]
  },
  {
   "cell_type": "code",
   "execution_count": 11,
   "metadata": {},
   "outputs": [
    {
     "data": {
      "image/png": "[encoded data removed]",
      "text/plain": [
       "<Figure size 432x288 with 1 Axes>"
      ]
     },
     "metadata": {},
     "output_type": "display_data"
    }
   ],
   "source": [
    "pl_sc(target_ids, lda)"
   ]
  },
  {
   "cell_type": "code",
   "execution_count": 12,
   "metadata": {
    "scrolled": true
   },
   "outputs": [
    {
     "name": "stdout",
     "output_type": "stream",
     "text": [
      "0.00153183937073\n"
     ]
    },
    {
     "data": {
      "image/png": "[encoded data removed]",
      "text/plain": [
       "<Figure size 432x288 with 1 Axes>"
      ]
     },
     "metadata": {},
     "output_type": "display_data"
    }
   ],
   "source": [
    "from sklearn.discriminant_analysis import LinearDiscriminantAnalysis as lda\n",
    "lda = lda(n_components=2)\n",
    "t0 = time()\n",
    "X_lda = lda.fit(data, labels).transform(data)\n",
    "t1 = time()\n",
    "print(t1 - t0)\n",
    "pl_sc(target_ids, X_lda)"
   ]
  },
  {
   "cell_type": "markdown",
   "metadata": {},
   "source": [
    "## Principal Components Analysis (PCA)\n",
    "- The next method that we are going to look at is involved in computing transformations of the data in order to identify a lower-dimensional set of axes.\n",
    "- PCA looks for dimensions of greatest variance."
   ]
  },
  {
   "cell_type": "markdown",
   "metadata": {},
   "source": [
    "We have a data matrix $X$ and we want to rotate it so\n",
    "that the data lies along the directions of maximum variation. This means that we multiply our data matrix by a rotation matrix (often written as $P^T$ ) so that $Y = P^T X$, where $P$ is chosen so that the covariance matrix of $Y$ is diagonal, ie.,\n",
    "\n",
    "\n",
    "\\begin{align}\n",
    "cov(Y)= cov(P^{T}X)=\\begin{pmatrix}\n",
    "\\lambda_1 & 0 & 0 & ... & 0\\\\\n",
    "   0 & \\lambda_2 & 0 & ... & 0\\\\\n",
    "   ... & ... & ... & ... & ...\\\\\n",
    "   0 & 0 & 0 & ... & \\lambda_N\n",
    "\\end{pmatrix} .\n",
    "\\end{align}\n",
    "\n",
    "\n",
    "\\begin{align}\n",
    "cov(Y) &= E[YY^T] \\\\\n",
    "&= E[(P^{T}X)(P^{T}X)^T] \\\\\n",
    "&= E[(P^{T}X)(X^{T}P)] \\\\\n",
    "&= P^{T}E(XX^T)P \\\\\n",
    "&= P^{T}cov(X)P \\\\\n",
    "Pcov(Y) &= PP^{T}cov(X)P \\\\\n",
    "Pcov(Y) &= cov(X)P \\\\\n",
    "\\end{align}\n",
    "\n",
    "As $cov(Y)$ is diagonal, if we write $P$ as a set of column vectors $P = [p_1 , p_2 , . . . , p_N]$ then:\n",
    "\n",
    "\n",
    "\\begin{align} \n",
    "Pcov(Y) &= [\\lambda_1 p_1, \\lambda_2 p_2,...\\lambda_N p_N], \n",
    "\\end{align} \n",
    "\n",
    "\n",
    "which (by writing the $\\lambda$ variables in a matrix as $\\lambda = (\\lambda_1, \\lambda_2,...,\\lambda_N)^T$ and $Z = cov(X))$ leads to a very interesting equation:\n",
    "\n",
    "\\begin{align} \n",
    "\\lambda p_i = Zpi \\text{ for each } p_i.\n",
    "\\end{align} \n",
    "\n",
    "Since $\\lambda$ is only a column vector, all it does is rescale the $p_i s$; it cannot\n",
    "rotate it or do anything complicated like that. So this tells us that somehow we have found\n",
    "a matrix $P$ so that for the directions that $P$ is written in, the matrix $Z$ does not twist\n",
    "or rotate those directions, but just rescales them. These directions are special enough that\n",
    "they have a name: they are $eigenvectors$, and the amount that they rescale the axes (the\n",
    "$\\lambda_s$) by are known as eigenvalues.\n",
    "\n",
    "If we make a matrix $E$ that contains the (normalised)\n",
    "eigenvectors of a matrix $A$ as columns, then this matrix will take any vector and rotate\n",
    "it into what is known as the eigenspace. Since $E$ is a rotation matrix, $E^{-1} = E^T$ , so that\n",
    "rotating the resultant vector back out of the eigenspace requires multiplying it by $E^T$ , where\n",
    "by ‘normalised’, I mean that the eigenvectors are made unit length. So what should we do\n",
    "between rotating the vector into the eigenspace, and rotating it back out? The answer is\n",
    "that we can stretch the vectors along the axes. This is done by multiplying the vector by a diagonal matrix that has the eigenvalues along its diagonal, $D$. So we can decompose any\n",
    "square symmetric matrix A into the following set of matrices: $A = EDE^T$ , and this is what\n",
    "we have done to our covariance matrix above. This is called the spectral decomposition."
   ]
  },
  {
   "cell_type": "code",
   "execution_count": 13,
   "metadata": {},
   "outputs": [
    {
     "name": "stdout",
     "output_type": "stream",
     "text": [
      "[[5.1 3.5 1.4 0.2]\n",
      " [4.9 3.  1.4 0.2]\n",
      " [4.7 3.2 1.3 0.2]\n",
      " [4.6 3.1 1.5 0.2]\n",
      " [5.  3.6 1.4 0.2]]\n"
     ]
    }
   ],
   "source": [
    "iris = datasets.load_iris()\n",
    "data = iris.data\n",
    "labels = iris.target\n",
    "Ndata = np.shape(data)[0]\n",
    "target_ids=[0,1,2]\n",
    "print data[:5]"
   ]
  },
  {
   "cell_type": "markdown",
   "metadata": {},
   "source": [
    "### The Principal Components Analysis Algorithm"
   ]
  },
  {
   "cell_type": "markdown",
   "metadata": {},
   "source": [
    "- Write $N$ datapoints $x_i = (x_{1i} , x_{2i} , . . . , x_{Mi} )$ as row vectors\n",
    "- Put these vectors into a matrix $X$ (which will have size $N × M$ )\n",
    "- Centre the data by subtracting off the mean of each column, putting it into matrix $B$"
   ]
  },
  {
   "cell_type": "code",
   "execution_count": 14,
   "metadata": {},
   "outputs": [
    {
     "name": "stdout",
     "output_type": "stream",
     "text": [
      "[5.84333333 3.054      3.75866667 1.19866667]\n"
     ]
    }
   ],
   "source": [
    "m = np.mean(data, axis=0)\n",
    "data -=m\n",
    "print m"
   ]
  },
  {
   "cell_type": "markdown",
   "metadata": {},
   "source": [
    "- Compute the covariance matrix $C =\\frac{1}{N-1}B^TB$"
   ]
  },
  {
   "cell_type": "code",
   "execution_count": 15,
   "metadata": {},
   "outputs": [
    {
     "name": "stdout",
     "output_type": "stream",
     "text": [
      "(4, 150) (150, 4) \n",
      "\n",
      "[[ 0.68569351 -0.03926846  1.27368233  0.5169038 ]\n",
      " [-0.03926846  0.18800403 -0.32171275 -0.11798121]\n",
      " [ 1.27368233 -0.32171275  3.11317942  1.29638747]\n",
      " [ 0.5169038  -0.11798121  1.29638747  0.58241432]]\n",
      "[[ 0.68569351 -0.03926846  1.27368233  0.5169038 ]\n",
      " [-0.03926846  0.18800403 -0.32171275 -0.11798121]\n",
      " [ 1.27368233 -0.32171275  3.11317942  1.29638747]\n",
      " [ 0.5169038  -0.11798121  1.29638747  0.58241432]]\n"
     ]
    }
   ],
   "source": [
    "C = np.cov(data.T)\n",
    "print data.T.shape, data.shape, '\\n'\n",
    "print np.matmul(data.T, data)/(np.shape(data)[0] - 1)\n",
    "print C"
   ]
  },
  {
   "cell_type": "markdown",
   "metadata": {},
   "source": [
    "- Compute the eigenvalues and eigenvectors of $C$, so $V^{−1} CV = D$, where $V$ holds the\n",
    "eigenvectors of $C$ and $D$ is the $M × M$ diagonal eigenvalue matrix\n",
    "- Sort the columns of $D$ into order of decreasing eigenvalues, and apply the same order\n",
    "to the columns of $V$\n",
    "- Reject those with eigenvalue less than some $\\eta$, leaving $L$ dimensions in the data\n"
   ]
  },
  {
   "cell_type": "code",
   "execution_count": 16,
   "metadata": {},
   "outputs": [
    {
     "name": "stdout",
     "output_type": "stream",
     "text": [
      "[4.22484077 0.24224357 0.07852391 0.02368303]\n",
      "[0 1 2 3] [4.22484077 0.24224357 0.07852391 0.02368303]\n",
      "[[ 0.36158968 -0.65653988 -0.58099728  0.31725455]\n",
      " [-0.08226889 -0.72971237  0.59641809 -0.32409435]\n",
      " [ 0.85657211  0.1757674   0.07252408 -0.47971899]\n",
      " [ 0.35884393  0.07470647  0.54906091  0.75112056]]\n"
     ]
    }
   ],
   "source": [
    "evals,evecs = np.linalg.eig(C)\n",
    "print evals\n",
    "indices = np.argsort(evals)\n",
    "indices = indices[::-1]\n",
    "evecs = evecs[:,indices]\n",
    "evals = evals[indices]\n",
    "print indices, evals \n",
    "print evecs\n"
   ]
  },
  {
   "cell_type": "code",
   "execution_count": 17,
   "metadata": {},
   "outputs": [
    {
     "data": {
      "text/plain": [
       "array(['setosa', 'versicolor', 'virginica'], dtype='|S10')"
      ]
     },
     "execution_count": 17,
     "metadata": {},
     "output_type": "execute_result"
    }
   ],
   "source": [
    "iris.target_names"
   ]
  },
  {
   "cell_type": "code",
   "execution_count": 18,
   "metadata": {},
   "outputs": [
    {
     "name": "stdout",
     "output_type": "stream",
     "text": [
      "evecs.T: \n",
      "[[ 0.36158968 -0.08226889  0.85657211  0.35884393]\n",
      " [-0.65653988 -0.72971237  0.1757674   0.07470647]\n",
      " [-0.58099728  0.59641809  0.07252408  0.54906091]\n",
      " [ 0.31725455 -0.32409435 -0.47971899  0.75112056]]\n",
      "data.T: \n",
      "[[-0.74333333 -0.94333333 -1.14333333 -1.24333333 -0.84333333]\n",
      " [ 0.446      -0.054       0.146       0.046       0.546     ]\n",
      " [-2.35866667 -2.35866667 -2.45866667 -2.25866667 -2.35866667]\n",
      " [-0.99866667 -0.99866667 -0.99866667 -0.99866667 -0.99866667]]\n",
      "n.T:\n",
      "[[-2.68420713e+00 -3.26607315e-01 -2.15118370e-02  1.00615724e-03]\n",
      " [-2.71539062e+00  1.69556848e-01 -2.03521425e-01  9.96024240e-02]\n",
      " [-2.88981954e+00  1.37345610e-01  2.47092410e-02  1.93045428e-02]\n",
      " [-2.74643720e+00  3.11124316e-01  3.76719753e-02 -7.59552741e-02]\n",
      " [-2.72859298e+00 -3.33924564e-01  9.62296998e-02 -6.31287327e-02]]\n"
     ]
    },
    {
     "data": {
      "image/png": "[encoded data removed]",
      "text/plain": [
       "<Figure size 432x288 with 1 Axes>"
      ]
     },
     "metadata": {},
     "output_type": "display_data"
    }
   ],
   "source": [
    "#Produce the new data matrix\n",
    "n = np.dot(evecs.T, data.T) \n",
    "print 'evecs.T: \\n',evecs.T\n",
    "print 'data.T: \\n',data.T[:,:5]\n",
    "print 'n.T:\\n',n.T[:5,:]\n",
    "\n",
    "pl_sc(target_ids, n.T)"
   ]
  },
  {
   "cell_type": "code",
   "execution_count": 19,
   "metadata": {},
   "outputs": [],
   "source": [
    "iris = datasets.load_iris()\n",
    "X = iris.data\n",
    "y = iris.target\n",
    "\n",
    "from sklearn.decomposition import PCA\n",
    "pca = PCA(n_components=2, whiten=True)\n",
    "pca.fit(X)\n",
    "X_pca = pca.transform(X)"
   ]
  },
  {
   "cell_type": "code",
   "execution_count": 20,
   "metadata": {},
   "outputs": [
    {
     "data": {
      "image/png": "[encoded data removed]",
      "text/plain": [
       "<Figure size 432x288 with 1 Axes>"
      ]
     },
     "metadata": {},
     "output_type": "display_data"
    }
   ],
   "source": [
    "pl_sc(target_ids, X_pca)"
   ]
  },
  {
   "cell_type": "code",
   "execution_count": 21,
   "metadata": {},
   "outputs": [
    {
     "data": {
      "image/png": "[encoded data removed]",
      "text/plain": [
       "<Figure size 432x288 with 1 Axes>"
      ]
     },
     "metadata": {},
     "output_type": "display_data"
    },
    {
     "data": {
      "image/png": "[encoded data removed]",
      "text/plain": [
       "<Figure size 432x288 with 1 Axes>"
      ]
     },
     "metadata": {},
     "output_type": "display_data"
    }
   ],
   "source": [
    "plt.subplot(111)\n",
    "pl_sc(target_ids, X_lda)\n",
    "\n",
    "\n",
    "plt.subplot(111)\n",
    "pl_sc(target_ids, X_pca)\n"
   ]
  },
  {
   "cell_type": "markdown",
   "metadata": {},
   "source": [
    "### Kernel PCA\n",
    "\n",
    "- One problem with PCA is that it assumes that the directions of variation are all straight\n",
    "lines. This is often not true. There is a very nice extension to PCA that uses the kernel trick.\n",
    "\n",
    "We apply a (possibly non-linear) function $\\phi(\\cdot)$ to each\n",
    "datapoint $x$ that transforms the data into the kernel space, and then perform normal linear\n",
    "PCA in that space. "
   ]
  },
  {
   "cell_type": "code",
   "execution_count": 22,
   "metadata": {},
   "outputs": [
    {
     "data": {
      "text/plain": [
       "(150, 2)"
      ]
     },
     "execution_count": 22,
     "metadata": {},
     "output_type": "execute_result"
    }
   ],
   "source": [
    "from sklearn.decomposition import KernelPCA\n",
    "transformer_p = KernelPCA(n_components=2, kernel='poly')\n",
    "KP = transformer_p.fit_transform(iris.data)\n",
    "KP.shape\n",
    "\n",
    "transformer_r = KernelPCA(n_components=2, kernel='rbf')\n",
    "KR = transformer_r.fit_transform(iris.data)\n",
    "KR.shape\n",
    "\n",
    "transformer_s = KernelPCA(n_components=2, kernel='cosine')\n",
    "KS = transformer_s.fit_transform(iris.data)\n",
    "KS.shape"
   ]
  },
  {
   "cell_type": "code",
   "execution_count": 23,
   "metadata": {},
   "outputs": [
    {
     "data": {
      "image/png": "[encoded data removed]",
      "text/plain": [
       "<Figure size 432x288 with 1 Axes>"
      ]
     },
     "metadata": {},
     "output_type": "display_data"
    },
    {
     "data": {
      "image/png": "[encoded data removed]",
      "text/plain": [
       "<Figure size 432x288 with 1 Axes>"
      ]
     },
     "metadata": {},
     "output_type": "display_data"
    },
    {
     "data": {
      "image/png": "[encoded data removed]",
      "text/plain": [
       "<Figure size 432x288 with 1 Axes>"
      ]
     },
     "metadata": {},
     "output_type": "display_data"
    }
   ],
   "source": [
    "plt.subplot(111)\n",
    "pl_sc(target_ids, KP)\n",
    "\n",
    "plt.subplot(111)\n",
    "pl_sc(target_ids, KR)\n",
    "\n",
    "plt.subplot(111)\n",
    "pl_sc(target_ids, KS)"
   ]
  },
  {
   "cell_type": "markdown",
   "metadata": {},
   "source": [
    "## Locally Linear Embedding"
   ]
  },
  {
   "cell_type": "code",
   "execution_count": 24,
   "metadata": {},
   "outputs": [
    {
     "name": "stderr",
     "output_type": "stream",
     "text": [
      "/home/emam/anaconda2/lib/python2.7/site-packages/numpy/core/numeric.py:544: ComplexWarning: Casting complex values to real discards the imaginary part\n",
      "  return array(a, dtype, copy=False, order=order, subok=True)\n"
     ]
    },
    {
     "data": {
      "image/png": "[encoded data removed]",
      "text/plain": [
       "<Figure size 432x288 with 1 Axes>"
      ]
     },
     "metadata": {},
     "output_type": "display_data"
    }
   ],
   "source": [
    "import pylab as pl\n",
    "import numpy as np\n",
    "\n",
    "def lle(data,nRedDim=2,K=3):\n",
    "\n",
    "\tndata = np.shape(data)[0]\n",
    "\tndim = np.shape(data)[1]\n",
    "\td = np.zeros((ndata,ndata),dtype=float)\n",
    "\t\n",
    "\t# Inefficient -- not matrices\n",
    "\tfor i in range(ndata):\n",
    "\t\tfor j in range(i+1,ndata):\n",
    "\t\t\tfor k in range(ndim):\n",
    "\t\t\t\td[i,j] += (data[i,k] - data[j,k])**2\n",
    "\t\t\td[i,j] = np.sqrt(d[i,j])\n",
    "\t\t\td[j,i] = d[i,j]\n",
    "\n",
    "\tindices = d.argsort(axis=1)\n",
    "\tneighbours = indices[:,1:K+1]\n",
    "\n",
    "\tW = np.zeros((K,ndata),dtype=float)\n",
    "\n",
    "\tfor i in range(ndata):\n",
    "\t\tZ  = data[neighbours[i,:],:] - np.kron(np.ones((K,1)),data[i,:])\n",
    "\t\tC = np.dot(Z,np.transpose(Z))\n",
    "\t\tC = C+np.identity(K)*22e-2*np.trace(C)\n",
    "\t\tW[:,i] = np.transpose(np.linalg.solve(C,np.ones((K,1))))\n",
    "\t\tW[:,i] = W[:,i]/np.sum(W[:,i])\n",
    "\n",
    "\tM = np.eye(ndata,dtype=float)\n",
    "\tfor i in range(ndata):\n",
    "\t\tw = np.transpose(np.ones((1,np.shape(W)[0]))*np.transpose(W[:,i]))\n",
    "\t\tj = neighbours[i,:]\n",
    "\t\t#print shape(w), np.shape(np.dot(w,np.transpose(w))), np.shape(M[i,j])\n",
    "\t\tww = np.dot(w,np.transpose(w))\n",
    "\t\tfor k in range(K):\n",
    "\t\t\tM[i,j[k]] -= w[k]\n",
    "\t\t\tM[j[k],i] -= w[k]\n",
    "\t\t\tfor l in range(K):\n",
    "\t\t\t     M[j[k],j[l]] += ww[k,l]\n",
    "\t\n",
    "\tevals,evecs = np.linalg.eig(M)\n",
    "\tind = np.argsort(evals)\n",
    "\ty = evecs[:,ind[1:nRedDim+1]]*np.sqrt(ndata)\n",
    "\treturn evals,evecs,y\n",
    "\n",
    "\n",
    "evals,evecs,y = lle(iris.data)\n",
    "\n",
    "pl_sc(target_ids, y)"
   ]
  },
  {
   "cell_type": "code",
   "execution_count": 25,
   "metadata": {},
   "outputs": [
    {
     "data": {
      "image/png": "[encoded data removed]",
      "text/plain": [
       "<Figure size 432x288 with 1 Axes>"
      ]
     },
     "metadata": {},
     "output_type": "display_data"
    }
   ],
   "source": [
    "from sklearn.manifold import LocallyLinearEmbedding\n",
    "labels = iris.target\n",
    "embedding = LocallyLinearEmbedding(3, n_components=2)\n",
    "X_lle = embedding.fit_transform(iris.data)\n",
    "target_ids = np.unique(labels)\n",
    "y = iris.target\n",
    "X_lle.shape\n",
    "(100, 2)\n",
    "\n",
    "pl_sc(target_ids, X_lle)"
   ]
  },
  {
   "cell_type": "code",
   "execution_count": null,
   "metadata": {},
   "outputs": [],
   "source": []
  },
  {
   "cell_type": "code",
   "execution_count": null,
   "metadata": {},
   "outputs": [],
   "source": []
  },
  {
   "cell_type": "markdown",
   "metadata": {},
   "source": [
    "## Isomap\n",
    "\n",
    "- Tries to minimise the global error by looking at all of the pairwise distances and computing global geodesics.\n",
    "It is a variant of the standard multi-dimensional scaling (MDS) algorithm."
   ]
  },
  {
   "cell_type": "markdown",
   "metadata": {},
   "source": [
    "### Multi-Dimensional Scaling (MDS\n",
    "\n",
    "Like PCA, MDS tries to find a linear approximation to the full dataspace that embeds\n",
    "the data into a lower dimensionality. In the case of MDS the embedding tries to preserve\n",
    "the distances between all pairs of points (however these distances are measured). It turns\n",
    "out that if the space is Euclidean, then the two methods are identical. We use the same\n",
    "notational setup as previously, starting with datapoints x 1 , x 2 , . . . , x N ∈ R M . We choose\n",
    "a new dimensionality L < M and compute the embedding so that the datapoints are\n",
    "z 1 , z 2 , . . . z N ∈ R L . As usual, we need a cost function to minimise. There are lots of choices\n",
    "for MDS cost functions, but the more common ones are:"
   ]
  },
  {
   "cell_type": "code",
   "execution_count": 26,
   "metadata": {},
   "outputs": [],
   "source": [
    "from sklearn import manifold"
   ]
  },
  {
   "cell_type": "code",
   "execution_count": 27,
   "metadata": {},
   "outputs": [
    {
     "data": {
      "image/png": "[encoded data removed]",
      "text/plain": [
       "<Figure size 432x288 with 1 Axes>"
      ]
     },
     "metadata": {},
     "output_type": "display_data"
    }
   ],
   "source": [
    "iris = datasets.load_iris()\n",
    "mds = manifold.MDS(2, max_iter=100, n_init=1)\n",
    "trans_data = mds.fit_transform(iris.data)\n",
    "trans_data.shape\n",
    "\n",
    "for i, c in zip(target_ids, 'rgb'):\n",
    "    plt.scatter(trans_data[ i == y,0], trans_data[i == y,1], c = c, marker='.')\n",
    "plt.show()"
   ]
  },
  {
   "cell_type": "code",
   "execution_count": 28,
   "metadata": {},
   "outputs": [
    {
     "name": "stderr",
     "output_type": "stream",
     "text": [
      "/home/emam/anaconda2/lib/python2.7/site-packages/sklearn/manifold/spectral_embedding_.py:234: UserWarning: Graph is not fully connected, spectral embedding may not work as expected.\n",
      "  warnings.warn(\"Graph is not fully connected, spectral embedding\"\n"
     ]
    },
    {
     "data": {
      "image/png": "[encoded data removed]",
      "text/plain": [
       "<Figure size 432x288 with 1 Axes>"
      ]
     },
     "metadata": {},
     "output_type": "display_data"
    }
   ],
   "source": [
    "se = manifold.SpectralEmbedding(n_components=2,\n",
    "                                n_neighbors=3)\n",
    "trans_data = se.fit_transform(iris.data)\n",
    "\n",
    "for i, c in zip(target_ids, 'rgb'):\n",
    "    plt.scatter(trans_data[ i == y,0], trans_data[i == y,1], c = c, marker='.')\n",
    "plt.show()"
   ]
  },
  {
   "cell_type": "code",
   "execution_count": 29,
   "metadata": {},
   "outputs": [
    {
     "data": {
      "image/png": "[encoded data removed]",
      "text/plain": [
       "<Figure size 432x288 with 1 Axes>"
      ]
     },
     "metadata": {},
     "output_type": "display_data"
    }
   ],
   "source": [
    "tsne = manifold.TSNE(n_components=2, init='pca', random_state=0)\n",
    "trans_data = tsne.fit_transform(iris.data)\n",
    "\n",
    "for i, c in zip(target_ids, 'rgb'):\n",
    "    plt.scatter(trans_data[ i == y,0], trans_data[i == y,1], c = c, marker='.')\n",
    "plt.show()"
   ]
  },
  {
   "cell_type": "code",
   "execution_count": 30,
   "metadata": {},
   "outputs": [
    {
     "data": {
      "image/png": "[encoded data removed]",
      "text/plain": [
       "<Figure size 432x288 with 1 Axes>"
      ]
     },
     "metadata": {},
     "output_type": "display_data"
    }
   ],
   "source": [
    "trans_data = manifold.Isomap(4, n_components=2).fit_transform(iris.data).T\n",
    "\n",
    "for i, c in zip(target_ids, 'rgb'):\n",
    "    plt.scatter(trans_data[0, i == y], trans_data[1,i == y], c = c, marker='.')\n",
    "plt.show()"
   ]
  },
  {
   "cell_type": "markdown",
   "metadata": {},
   "source": [
    "## References\n",
    "[\n",
    "Machine Learning: An Algorithmic Perspective: Stephen Marsland ](http://dai.fmph.uniba.sk/courses/ICI/References/marsland.machine-learning.2ed.2015.pdf)"
   ]
  }
 ],
 "metadata": {
  "kernelspec": {
   "display_name": "Python 2",
   "language": "python",
   "name": "python2"
  },
  "language_info": {
   "codemirror_mode": {
    "name": "ipython",
    "version": 2
   },
   "file_extension": ".py",
   "mimetype": "text/x-python",
   "name": "python",
   "nbconvert_exporter": "python",
   "pygments_lexer": "ipython2",
   "version": "2.7.15"
  }
 },
 "nbformat": 4,
 "nbformat_minor": 2
}
