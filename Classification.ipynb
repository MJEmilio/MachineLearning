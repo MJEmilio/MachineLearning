{
 "cells": [
  {
   "cell_type": "markdown",
   "metadata": {},
   "source": [
    "# Machine learning classification\n",
    "\n",
    "- __Classification__: Predictiong a discret random variable $Y$ from another random variable $X$.\n",
    "\n",
    "Consider data $(X_1, Y_1) ,\\dotsc, (X_n, Y_n)$ where\n",
    "\n",
    "\\begin{align}\n",
    "X_i = (X_{i1}, \\dotsc ,X_{id} \\in \\mathcal{X} \\subset \\mathbb{R}^d )\n",
    "\\end{align}\n",
    "\n",
    "\n",
    "is a _d - dimensional_ vector and $y_i$ takes calues in some finite set $\\mathcal{Y}$. A clasification rule is a function $h :  \\mathcal{X} \\to \\mathcal{Y}$. When we observe a new $x$ we predict y to be $h(x)$.\n"
   ]
  },
  {
   "cell_type": "markdown",
   "metadata": {},
   "source": [
    "\n",
    "# Error rate\n",
    "\n",
    "Definition: The true error rate of a classifier $h$ is\n",
    "\n",
    "\\begin{align}\n",
    "L(H) = Pr(h(x) \\ne y)\n",
    "\\end{align}\n",
    "\n",
    "We can estimate the probability this way, the empirical error rate or training error rate is:\n",
    "\n"
   ]
  },
  {
   "cell_type": "markdown",
   "metadata": {},
   "source": [
    "\\begin{align}\n",
    "L_n = \\frac{1}{n}\\sum_{i=1}{I(h(x_i) \\ne y_i)}\n",
    "\\end{align}\n",
    "\n",
    "If among 100 points 10 of them are not correct then $\\frac{10}{100}$is my estimation of the true error or training error.\n",
    "\n",
    "\n",
    "For Bayes\n",
    "\n",
    "\\begin{align}\n",
    "P (y=1|x=x_o)  = \\frac{P(x=x_o | y=1)P(y=1)}{P(x=x_o)}\n",
    "\\end{align}"
   ]
  },
  {
   "cell_type": "markdown",
   "metadata": {},
   "source": [
    "Consider the special case where $\\mathcal{Y}=\\big\\{0,1\\big\\}$ then\n",
    "\n",
    "\\begin{align}\n",
    "P (y=1|x=x_o)  &= \\frac{P(x=x_o | y=1)P(y=1)}{P(x=x_o)} \\\\\n",
    " &= \\frac{P(x=x_o | y=1)P(y=1)}{P(x=x_o | y=1)P(y=1) + P(x=x_o | y=0)P(y=0) } \n",
    "\\end{align}\n",
    "\n",
    "Then Bayes Classifier can be defined as\n",
    "\n"
   ]
  }
 ],
 "metadata": {
  "kernelspec": {
   "display_name": "Python 3",
   "language": "python",
   "name": "python3"
  },
  "language_info": {
   "codemirror_mode": {
    "name": "ipython",
    "version": 3
   },
   "file_extension": ".py",
   "mimetype": "text/x-python",
   "name": "python",
   "nbconvert_exporter": "python",
   "pygments_lexer": "ipython3",
   "version": "3.6.6"
  }
 },
 "nbformat": 4,
 "nbformat_minor": 2
}
