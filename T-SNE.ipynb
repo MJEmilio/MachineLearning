{
 "cells": [
  {
   "cell_type": "code",
   "execution_count": 2,
   "metadata": {},
   "outputs": [
    {
     "name": "stdout",
     "output_type": "stream",
     "text": [
      "Run Y = tsne.tsne(X, no_dims, perplexity) to perform t-SNE on your dataset.\n",
      "Running example on 2,500 MNIST digits...\n",
      "Preprocessing the data using PCA...\n",
      "Computing pairwise distances...\n",
      "Computing P-values for point 0 of 2500...\n",
      "Computing P-values for point 500 of 2500...\n",
      "Computing P-values for point 1000 of 2500...\n",
      "Computing P-values for point 1500 of 2500...\n",
      "Computing P-values for point 2000 of 2500...\n",
      "Mean value of sigma: 2.386597\n",
      "Iteration 10: error is 23.582477\n",
      "Iteration 20: error is 21.017746\n",
      "Iteration 30: error is 18.050543\n",
      "Iteration 40: error is 16.832701\n",
      "Iteration 50: error is 16.479633\n",
      "Iteration 60: error is 16.371621\n",
      "Iteration 70: error is 16.280060\n",
      "Iteration 80: error is 16.192731\n",
      "Iteration 90: error is 16.113343\n",
      "Iteration 100: error is 16.047633\n",
      "^C\n",
      "Traceback (most recent call last):\n",
      "  File \"tsne.py\", line 188, in <module>\n",
      "    Y = tsne(X, 2, 50, 20.0)\n",
      "  File \"tsne.py\", line 154, in tsne\n",
      "    PQ = P - Q\n",
      "KeyboardInterrupt\n"
     ]
    }
   ],
   "source": [
    "!python tsne.py"
   ]
  }
 ],
 "metadata": {
  "kernelspec": {
   "display_name": "Python 2",
   "language": "python",
   "name": "python2"
  },
  "language_info": {
   "codemirror_mode": {
    "name": "ipython",
    "version": 2
   },
   "file_extension": ".py",
   "mimetype": "text/x-python",
   "name": "python",
   "nbconvert_exporter": "python",
   "pygments_lexer": "ipython2",
   "version": "2.7.15"
  }
 },
 "nbformat": 4,
 "nbformat_minor": 2
}
