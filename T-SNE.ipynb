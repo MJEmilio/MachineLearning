{
 "cells": [
  {
   "cell_type": "markdown",
   "metadata": {},
   "source": [
    "# t-SNE\n",
    "\n",
    "t - distributed stochastic neighbor embedding\n",
    "\n",
    "## SNE: stochastic neighbor embedding \n",
    "(Geoffrey Hinton and Sam Roweis)\n",
    "\n",
    "### Algorithm\n",
    "\n",
    "- convert pairwise distances to probability\n",
    "- for any $x_i$ and $x_j$ define"
   ]
  }
 ],
 "metadata": {
  "kernelspec": {
   "display_name": "Python 2",
   "language": "python",
   "name": "python2"
  },
  "language_info": {
   "codemirror_mode": {
    "name": "ipython",
    "version": 2
   },
   "file_extension": ".py",
   "mimetype": "text/x-python",
   "name": "python",
   "nbconvert_exporter": "python",
   "pygments_lexer": "ipython2",
   "version": "2.7.15"
  }
 },
 "nbformat": 4,
 "nbformat_minor": 2
}
