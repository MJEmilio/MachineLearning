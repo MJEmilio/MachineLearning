{
 "cells": [
  {
   "cell_type": "markdown",
   "metadata": {},
   "source": [
    "# Locally Linear Embedding (LLE)"
   ]
  },
  {
   "cell_type": "markdown",
   "metadata": {},
   "source": [
    "- Non-linear\n",
    "- Preserve the neighbourhood relations in the data"
   ]
  },
  {
   "cell_type": "code",
   "execution_count": 1,
   "metadata": {},
   "outputs": [],
   "source": [
    "import numpy as np\n",
    "import matplotlib.pyplot as plt\n",
    "import matplotlib as mpl\n",
    "from sklearn import datasets\n",
    "mpl.rcParams['figure.figsize'] = 3, 2\n",
    "mpl.rcParams['figure.dpi'] = 150\n",
    "mpl.rcParams['font.size'] = 8\n",
    "\n",
    "iris = datasets.load_iris()\n",
    "colors = ['navy', 'turquoise', 'darkorange']\n",
    "target_ids = np.unique(iris.target)\n",
    "t = iris.target\n",
    "data = iris.data"
   ]
  },
  {
   "cell_type": "markdown",
   "metadata": {},
   "source": [
    "## The Locally Linear Embedding Algorithm"
   ]
  },
  {
   "cell_type": "markdown",
   "metadata": {},
   "source": [
    "- Decide on the neighbours of each point\n",
    "- compute distances between every pair of points\n",
    "- find the k smallest distances\n",
    "- set $W_{ij} = 0$ for other points"
   ]
  },
  {
   "cell_type": "code",
   "execution_count": 2,
   "metadata": {},
   "outputs": [],
   "source": [
    "K = 5\n",
    "ndata = np.shape(data)[0]\n",
    "ndim = np.shape(data)[1]\n",
    "d = np.zeros((ndata,ndata),dtype=float)\n",
    "\n",
    "# Inefficient -- not matrices\n",
    "for i in range(ndata):\n",
    "\tfor j in range(i+1,ndata):\n",
    "\t\tfor k in range(ndim):\n",
    "\t\t\td[i,j] += (data[i,k] - data[j,k])**2\n",
    "\t\td[i,j] = np.sqrt(d[i,j])\n",
    "\t\td[j,i] = d[i,j]\n",
    "        \n",
    "\tindices = d.argsort(axis=1)\n",
    "\tneighbours = indices[:,1:K+1]\n",
    "\n",
    "\tW = np.zeros((K,ndata),dtype=float)"
   ]
  },
  {
   "cell_type": "code",
   "execution_count": 3,
   "metadata": {},
   "outputs": [
    {
     "data": {
      "image/png": "[encoded data removed]",
      "text/plain": [
       "<Figure size 432x288 with 1 Axes>"
      ]
     },
     "metadata": {},
     "output_type": "display_data"
    }
   ],
   "source": [
    "import pylab as pl\n",
    "import numpy as np\n",
    "\n",
    "def lle(data,nRedDim=2,K=5):\n",
    "\n",
    "\tndata = np.shape(data)[0]\n",
    "\tndim = np.shape(data)[1]\n",
    "\td = np.zeros((ndata,ndata),dtype=float)\n",
    "\t\n",
    "\t# Inefficient -- not matrices\n",
    "\tfor i in range(ndata):\n",
    "\t\tfor j in range(i+1,ndata):\n",
    "\t\t\tfor k in range(ndim):\n",
    "\t\t\t\td[i,j] += (data[i,k] - data[j,k])**2\n",
    "\t\t\td[i,j] = np.sqrt(d[i,j])\n",
    "\t\t\td[j,i] = d[i,j]\n",
    "\n",
    "\tindices = d.argsort(axis=1)\n",
    "\tneighbours = indices[:,1:K+1]\n",
    "\n",
    "\tW = np.zeros((K,ndata),dtype=float)\n",
    "\n",
    "\tfor i in range(ndata):\n",
    "\t\tZ  = data[neighbours[i,:],:] - np.kron(np.ones((K,1)),data[i,:])\n",
    "\t\tC = np.dot(Z,np.transpose(Z))\n",
    "\t\tC = C+np.identity(K)*1e-3*np.trace(C)\n",
    "\t\tW[:,i] = np.transpose(np.linalg.solve(C,np.ones((K,1))))\n",
    "\t\tW[:,i] = W[:,i]/np.sum(W[:,i])\n",
    "\n",
    "\tM = np.eye(ndata,dtype=float)\n",
    "\tfor i in range(ndata):\n",
    "\t\tw = np.transpose(np.ones((1,np.shape(W)[0]))*np.transpose(W[:,i]))\n",
    "\t\tj = neighbours[i,:]\n",
    "\t\t#print shape(w), np.shape(np.dot(w,np.transpose(w))), np.shape(M[i,j])\n",
    "\t\tww = np.dot(w,np.transpose(w))\n",
    "\t\tfor k in range(K):\n",
    "\t\t\tM[i,j[k]] -= w[k]\n",
    "\t\t\tM[j[k],i] -= w[k]\n",
    "\t\t\tfor l in range(K):\n",
    "\t\t\t     M[j[k],j[l]] += ww[k,l]\n",
    "\t\n",
    "\tevals,evecs = np.linalg.eig(M)\n",
    "\tind = np.argsort(evals)\n",
    "\ty = evecs[:,ind[1:nRedDim+1]]*np.sqrt(ndata)\n",
    "\treturn evals,evecs,y\n",
    "\n",
    "colors = ['navy', 'turquoise', 'darkorange']\n",
    "evals,evecs,y = lle(iris.data)\n",
    "\n",
    "target_ids = np.unique(iris.target)\n",
    "t = iris.target\n",
    "for i, c in zip(target_ids, colors):\n",
    "    plt.scatter(y[ i == t,0], y[i == t,1], c = c, marker='.')\n",
    "plt.show()"
   ]
  },
  {
   "cell_type": "code",
   "execution_count": 4,
   "metadata": {},
   "outputs": [
    {
     "data": {
      "image/png": "[encoded data removed]",
      "text/plain": [
       "<Figure size 432x288 with 1 Axes>"
      ]
     },
     "metadata": {},
     "output_type": "display_data"
    }
   ],
   "source": [
    "from sklearn.manifold import LocallyLinearEmbedding\n",
    "\n",
    "embedding = LocallyLinearEmbedding(5,  n_components=2, reg=1e-3)\n",
    "X_lle = embedding.fit_transform(iris.data)\n",
    "\n",
    "y = iris.target\n",
    "X_lle.shape\n",
    "(100, 2)\n",
    "\n",
    "\n",
    "for i, c in zip(target_ids, colors):\n",
    "    plt.scatter(X_lle[ i == y,0], X_lle[i == y,1], c = c, marker='.')\n",
    "plt.show()"
   ]
  },
  {
   "cell_type": "markdown",
   "metadata": {},
   "source": [
    "## References\n",
    "[\n",
    "Machine Learning: An Algorithmic Perspective: Stephen Marsland ](http://dai.fmph.uniba.sk/courses/ICI/References/marsland.machine-learning.2ed.2015.pdf)"
   ]
  }
 ],
 "metadata": {
  "kernelspec": {
   "display_name": "Python 2",
   "language": "python",
   "name": "python2"
  },
  "language_info": {
   "codemirror_mode": {
    "name": "ipython",
    "version": 2
   },
   "file_extension": ".py",
   "mimetype": "text/x-python",
   "name": "python",
   "nbconvert_exporter": "python",
   "pygments_lexer": "ipython2",
   "version": "2.7.15"
  }
 },
 "nbformat": 4,
 "nbformat_minor": 2
}
