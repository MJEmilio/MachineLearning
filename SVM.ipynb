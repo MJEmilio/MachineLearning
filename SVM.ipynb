{
 "cells": [
  {
   "cell_type": "markdown",
   "metadata": {},
   "source": [
    "# Support Vector Machines\n",
    "\n",
    "## Optimal Separation\n",
    "\n",
    "### The Margin and Support Vectors\n",
    "\n",
    "Instead of just looking at whether the value of $w \\cdot x + b $ is positive or negative, we also check whether the absolute value is less than our margin $M$.\n",
    "\n",
    "- $w \\cdot x$ is the inner or scalar product,$w \\cdot x = \\sum_i w_i x_i$. This can also be written as $w^T x$."
   ]
  }
 ],
 "metadata": {
  "kernelspec": {
   "display_name": "Python 2",
   "language": "python",
   "name": "python2"
  },
  "language_info": {
   "codemirror_mode": {
    "name": "ipython",
    "version": 2
   },
   "file_extension": ".py",
   "mimetype": "text/x-python",
   "name": "python",
   "nbconvert_exporter": "python",
   "pygments_lexer": "ipython2",
   "version": "2.7.15"
  }
 },
 "nbformat": 4,
 "nbformat_minor": 2
}
