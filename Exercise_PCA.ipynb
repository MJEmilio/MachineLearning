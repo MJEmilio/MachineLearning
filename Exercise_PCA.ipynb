{
 "cells": [
  {
   "cell_type": "markdown",
   "metadata": {},
   "source": [
    "# PCA\n",
    "\n",
    "- PCA looks for dimensions of greatest variance"
   ]
  },
  {
   "cell_type": "markdown",
   "metadata": {},
   "source": [
    "$N$ datapoints $X = [x_{1} , x_{2} , . . . , x_{n} ]_{d \\times n} $ matrix, so $x_i \\in \\mathbb{R}^d$ is a vector.\n",
    "\n",
    "Project $d$ ponits on a vector $u_1$:\n",
    "\\begin{align}\n",
    "u_1^T X\n",
    "\\end{align}\n",
    "\n",
    "Optimization problem:\n",
    "\\begin{align}\n",
    "\\max_{u_1} var(u_1^T X)\n",
    "\\end{align}\n"
   ]
  },
  {
   "cell_type": "markdown",
   "metadata": {},
   "source": [
    "## The Principal Components Analysis Algorithm<cite data-cite=\"marsland2011machine\"></cite>"
   ]
  },
  {
   "cell_type": "markdown",
   "metadata": {},
   "source": [
    "Write $N$ datapoints $x_i = (x_{1i} , x_{2i} , . . . , x_{Mi} )$ as row vectors"
   ]
  },
  {
   "cell_type": "code",
   "execution_count": 1,
   "metadata": {},
   "outputs": [
    {
     "data": {
      "text/plain": [
       "<Figure size 640x480 with 1 Axes>"
      ]
     },
     "metadata": {},
     "output_type": "display_data"
    }
   ],
   "source": [
    "import numpy as np\n",
    "import matplotlib.pyplot as plt\n",
    "\n",
    "np.random.seed(5)\n",
    "x = np.arange(1, 9)\n",
    "y = 0.1 * x + np.random.uniform(0, 0.5, 8)\n",
    "plt.plot(x, y, \"ro\")\n",
    "plt.show()"
   ]
  },
  {
   "cell_type": "markdown",
   "metadata": {},
   "source": [
    "Put these vectors into a matrix $X$ (which will have size $N × M$ )"
   ]
  },
  {
   "cell_type": "code",
   "execution_count": 2,
   "metadata": {},
   "outputs": [
    {
     "data": {
      "text/plain": [
       "array([[1.        , 2.        , 3.        , 4.        , 5.        ,\n",
       "        6.        , 7.        , 8.        ],\n",
       "       [0.21099659, 0.63536615, 0.40335958, 0.85930545, 0.74420559,\n",
       "        0.90587193, 1.08295393, 1.05920899]])"
      ]
     },
     "execution_count": 2,
     "metadata": {},
     "output_type": "execute_result"
    }
   ],
   "source": [
    "data=np.array([x,y])\n",
    "data"
   ]
  },
  {
   "cell_type": "code",
   "execution_count": 3,
   "metadata": {},
   "outputs": [
    {
     "data": {
      "text/plain": [
       "array([[1.        , 0.21099659],\n",
       "       [2.        , 0.63536615],\n",
       "       [3.        , 0.40335958],\n",
       "       [4.        , 0.85930545],\n",
       "       [5.        , 0.74420559],\n",
       "       [6.        , 0.90587193],\n",
       "       [7.        , 1.08295393],\n",
       "       [8.        , 1.05920899]])"
      ]
     },
     "execution_count": 3,
     "metadata": {},
     "output_type": "execute_result"
    }
   ],
   "source": [
    "data=data.T\n",
    "data"
   ]
  },
  {
   "cell_type": "markdown",
   "metadata": {},
   "source": [
    "Centre the data by subtracting off the mean of each column, putting it into matrix $B$"
   ]
  },
  {
   "cell_type": "code",
   "execution_count": 4,
   "metadata": {},
   "outputs": [],
   "source": [
    "m = np.mean(data, axis=0)\n",
    "data -=m"
   ]
  },
  {
   "cell_type": "code",
   "execution_count": 5,
   "metadata": {},
   "outputs": [
    {
     "data": {
      "image/png": "[encoded data removed]",
      "text/plain": [
       "<Figure size 432x288 with 1 Axes>"
      ]
     },
     "metadata": {},
     "output_type": "display_data"
    }
   ],
   "source": [
    "plt.plot(data[:,0], data[:,1], 'ro')\n",
    "plt.show()"
   ]
  },
  {
   "cell_type": "markdown",
   "metadata": {},
   "source": [
    "Compute the covariance matrix $C =\\frac{1}{N}B^TB$"
   ]
  },
  {
   "cell_type": "code",
   "execution_count": 6,
   "metadata": {},
   "outputs": [
    {
     "data": {
      "text/plain": [
       "array([[6.        , 0.68341878],\n",
       "       [0.68341878, 0.09505036]])"
      ]
     },
     "execution_count": 6,
     "metadata": {},
     "output_type": "execute_result"
    }
   ],
   "source": [
    "C = np.cov(data.T)\n",
    "C"
   ]
  },
  {
   "cell_type": "markdown",
   "metadata": {},
   "source": [
    "Compute the eigenvalues and eigenvectors of $C$, so $V^{-1} CV = D$, where $V$ holds the\n",
    "eigenvectors of $C$ and $D$ is the $M × M$ diagonal eigenvalue matrix"
   ]
  },
  {
   "cell_type": "code",
   "execution_count": 7,
   "metadata": {},
   "outputs": [],
   "source": [
    "evals,evecs = np.linalg.eig(C)"
   ]
  },
  {
   "cell_type": "markdown",
   "metadata": {},
   "source": [
    "Sort the columns of $D$ into order of decreasing eigenvalues, and apply the same order\n",
    "to the columns of $V$"
   ]
  },
  {
   "cell_type": "code",
   "execution_count": 8,
   "metadata": {},
   "outputs": [
    {
     "data": {
      "text/plain": [
       "array([[ 0.99353931, -0.11348852],\n",
       "       [ 0.11348852,  0.99353931]])"
      ]
     },
     "execution_count": 8,
     "metadata": {},
     "output_type": "execute_result"
    }
   ],
   "source": [
    "indices = np.argsort(evals)\n",
    "indices = indices[::-1]\n",
    "evecs = evecs[:,indices]\n",
    "evals = evals[indices]\n",
    "evecs"
   ]
  },
  {
   "cell_type": "markdown",
   "metadata": {},
   "source": [
    "Reject those with eigenvalue less than some $\\eta$, leaving $L$ dimensions in the data"
   ]
  },
  {
   "cell_type": "markdown",
   "metadata": {},
   "source": [
    "Produce the new data matrix"
   ]
  },
  {
   "cell_type": "code",
   "execution_count": 9,
   "metadata": {},
   "outputs": [],
   "source": [
    "x = np.dot(np.transpose(evecs),np.transpose(data))"
   ]
  },
  {
   "cell_type": "code",
   "execution_count": 10,
   "metadata": {},
   "outputs": [
    {
     "data": {
      "text/plain": [
       "array([[-3.53715766e+00, -2.49545728e+00, -1.52824805e+00,\n",
       "        -4.82964124e-01,  4.97512671e-01,  1.50939925e+00,\n",
       "         2.52303533e+00,  3.51387986e+00],\n",
       "       [-1.26049522e-01,  1.82089805e-01, -1.61906367e-01,\n",
       "         1.77605263e-01, -5.02394914e-02, -3.10615055e-03,\n",
       "         5.93432542e-02, -7.77367912e-02]])"
      ]
     },
     "execution_count": 10,
     "metadata": {},
     "output_type": "execute_result"
    }
   ],
   "source": [
    "x"
   ]
  },
  {
   "cell_type": "code",
   "execution_count": 11,
   "metadata": {},
   "outputs": [
    {
     "data": {
      "image/png": "[encoded data removed]",
      "text/plain": [
       "<Figure size 432x288 with 1 Axes>"
      ]
     },
     "metadata": {},
     "output_type": "display_data"
    }
   ],
   "source": [
    "plt.plot(x[0], x[1], \"bo\")\n",
    "plt.show()"
   ]
  },
  {
   "cell_type": "markdown",
   "metadata": {},
   "source": [
    "## Observations"
   ]
  },
  {
   "cell_type": "markdown",
   "metadata": {},
   "source": [
    "### Multiply a vector by $C$"
   ]
  },
  {
   "cell_type": "code",
   "execution_count": 12,
   "metadata": {},
   "outputs": [],
   "source": [
    "def slope(x1, y1, x2, y2):\n",
    "    m=(y2-y1)/(x2-x1)\n",
    "    print('Slope: ', m)"
   ]
  },
  {
   "cell_type": "code",
   "execution_count": 13,
   "metadata": {},
   "outputs": [
    {
     "name": "stdout",
     "output_type": "stream",
     "text": [
      "('Slope: ', 0.12031540626524392)\n",
      "[8.05025634 0.96856986]\n"
     ]
    }
   ],
   "source": [
    "v =  np.array([1, 3])\n",
    "v = np.matmul(C, v)\n",
    "slope(0,0,v[0],v[1])\n",
    "print(v)"
   ]
  },
  {
   "cell_type": "code",
   "execution_count": 14,
   "metadata": {},
   "outputs": [
    {
     "name": "stdout",
     "output_type": "stream",
     "text": [
      "('Slope: ', 0.1142435065377625)\n",
      "[48.9634769   5.59375929]\n",
      "('Slope: ', 0.11422654958418434)\n",
      "[297.60374153  33.99424854]\n",
      "('Slope: ', 0.11422650219619285)\n",
      "[1808.8547571   206.61915188]\n"
     ]
    }
   ],
   "source": [
    "v = np.matmul(C, v)\n",
    "slope(0,0,v[0],v[1])\n",
    "print(v)\n",
    "\n",
    "v = np.matmul(C, v)\n",
    "slope(0,0,v[0],v[1])\n",
    "print(v)\n",
    "\n",
    "v = np.matmul(C, v)\n",
    "slope(0,0,v[0],v[1])\n",
    "print(v)"
   ]
  },
  {
   "cell_type": "markdown",
   "metadata": {},
   "source": [
    "The slope is converging to some value (that vector also happens to lay along the direction of the greatest variance)"
   ]
  },
  {
   "cell_type": "markdown",
   "metadata": {},
   "source": [
    "### Finding Eigenvectors \n",
    "Find eigenvalues by solving: $det(\\Sigma - \\lambda I)$"
   ]
  },
  {
   "cell_type": "markdown",
   "metadata": {},
   "source": [
    "$$det \\begin{pmatrix}\n",
    "  6.0 - \\lambda & 0.68 \\\\\n",
    "  0.68 & 0.09 - \\lambda  \n",
    " \\end{pmatrix} = (6.0-\\lambda)(0.09-\\lambda)-(0.68)(0.68)$$"
   ]
  },
  {
   "cell_type": "code",
   "execution_count": 15,
   "metadata": {},
   "outputs": [
    {
     "data": {
      "text/plain": [
       "[0.0127689731816278, 6.07723102681837]"
      ]
     },
     "execution_count": 15,
     "metadata": {},
     "output_type": "execute_result"
    }
   ],
   "source": [
    "from sympy.solvers import solve\n",
    "from sympy import Symbol\n",
    "x = Symbol('x')\n",
    "solve((6-x)*(0.09-x)-(.68)*(.68), x)"
   ]
  },
  {
   "cell_type": "markdown",
   "metadata": {},
   "source": [
    "Find $i^{th}$ eigenvector by solving: $\\Sigma e_i = \\lambda_i e_i$"
   ]
  },
  {
   "cell_type": "markdown",
   "metadata": {},
   "source": [
    "$$ \\begin{pmatrix}\n",
    "  6.08 & 0.68 \\\\\n",
    "  0.68 & 0.09  \n",
    " \\end{pmatrix} \n",
    " \\begin{pmatrix}\n",
    "  e_{1,1} \\\\\n",
    "  e_{1,2}  \n",
    " \\end{pmatrix} = 6.07 \\begin{pmatrix}\n",
    "  e_{1,1} \\\\\n",
    "  e_{1,2}  \n",
    "\\end{pmatrix} \t$$"
   ]
  },
  {
   "cell_type": "markdown",
   "metadata": {},
   "source": [
    "$$6.08e_{1,1} + 0.68e_{1,2} = 6.07e_{1,1} \\\\ 0.68e_{1,1} + 0.09e_{1,2} = 6.07e_{1,2}  $$"
   ]
  },
  {
   "cell_type": "markdown",
   "metadata": {},
   "source": [
    "$$0.68e_{1,1} = 5.98e_{1,2} $$"
   ]
  },
  {
   "cell_type": "markdown",
   "metadata": {},
   "source": [
    "$$ e_{1,1} = 8.7e_{1,2}$$"
   ]
  },
  {
   "cell_type": "markdown",
   "metadata": {},
   "source": [
    "$$ e_1 \\sim \\begin{bmatrix}\n",
    "8.7 \\\\\n",
    "1\n",
    "\\end{bmatrix}\n",
    "$$"
   ]
  },
  {
   "cell_type": "markdown",
   "metadata": {},
   "source": [
    "want:  $$ ||e_1|| =1 $$"
   ]
  },
  {
   "cell_type": "code",
   "execution_count": 16,
   "metadata": {},
   "outputs": [],
   "source": [
    "e =  np.array([8.7, 1])"
   ]
  },
  {
   "cell_type": "code",
   "execution_count": 17,
   "metadata": {},
   "outputs": [],
   "source": [
    "m=np.linalg.norm(e)"
   ]
  },
  {
   "cell_type": "code",
   "execution_count": 18,
   "metadata": {},
   "outputs": [
    {
     "name": "stdout",
     "output_type": "stream",
     "text": [
      "[0.99345885 0.11419067]\n"
     ]
    }
   ],
   "source": [
    "eu=e/m\n",
    "print(eu)"
   ]
  },
  {
   "cell_type": "code",
   "execution_count": 19,
   "metadata": {},
   "outputs": [
    {
     "name": "stdout",
     "output_type": "stream",
     "text": [
      "('Slope: ', 0.1149425287356322)\n"
     ]
    }
   ],
   "source": [
    "slope(0,0,eu[0],eu[1])"
   ]
  },
  {
   "cell_type": "markdown",
   "metadata": {},
   "source": [
    "$$ e_1 \\sim \\begin{bmatrix}\n",
    "0.99 \\\\\n",
    "0.11\n",
    "\\end{bmatrix}\n",
    "$$"
   ]
  },
  {
   "cell_type": "markdown",
   "metadata": {},
   "source": [
    "$$1^{st} PC:  \\begin{bmatrix}\n",
    "  0.99 \\\\\n",
    "  0.11  \n",
    " \\end{bmatrix},  2^{nd} PC:  \\begin{bmatrix}\n",
    "  -0.11 \\\\\n",
    "  0.99  \n",
    " \\end{bmatrix}$$"
   ]
  },
  {
   "cell_type": "markdown",
   "metadata": {},
   "source": [
    "## References\n",
    "[\n",
    "Machine Learning: An Algorithmic Perspective: Stephen Marsland ](http://dai.fmph.uniba.sk/courses/ICI/References/marsland.machine-learning.2ed.2015.pdf)"
   ]
  }
 ],
 "metadata": {
  "kernelspec": {
   "display_name": "Python 3",
   "language": "python",
   "name": "python3"
  },
  "language_info": {
   "codemirror_mode": {
    "name": "ipython",
    "version": 3
   },
   "file_extension": ".py",
   "mimetype": "text/x-python",
   "name": "python",
   "nbconvert_exporter": "python",
   "pygments_lexer": "ipython3",
   "version": "3.6.6"
  }
 },
 "nbformat": 4,
 "nbformat_minor": 2
}
