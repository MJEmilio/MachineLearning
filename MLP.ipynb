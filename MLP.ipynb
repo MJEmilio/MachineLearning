{
 "cells": [
  {
   "cell_type": "code",
   "execution_count": 116,
   "metadata": {},
   "outputs": [
    {
     "data": {
      "image/png": "[encoded data removed]",
      "text/plain": [
       "<matplotlib.figure.Figure at 0x7f75dd4d0e10>"
      ]
     },
     "metadata": {
      "needs_background": "light"
     },
     "output_type": "display_data"
    }
   ],
   "source": [
    "import matplotlib.pyplot as plt\n",
    "from math import sin\n",
    "xpts = np.linspace(-2, 2, 70)\n",
    "\n",
    "test = lambda x: 1 + sin( (3.1416/2)*np.array(x)  )\n",
    "l = [test(x) for x in xpts]\n",
    "plt.plot(xpts, l)\n",
    "plt.show()"
   ]
  },
  {
   "cell_type": "code",
   "execution_count": 124,
   "metadata": {},
   "outputs": [],
   "source": [
    "x_train = np.array(xpts, ndmin=2)\n",
    "y_train = np.array(l, ndmin=2)"
   ]
  },
  {
   "cell_type": "code",
   "execution_count": 130,
   "metadata": {},
   "outputs": [],
   "source": [
    "from sklearn.utils import shuffle\n",
    "x_train, y_train = shuffle(x_train, y_train, random_state=0)"
   ]
  },
  {
   "cell_type": "code",
   "execution_count": 179,
   "metadata": {},
   "outputs": [
    {
     "name": "stdout",
     "output_type": "stream",
     "text": [
      "1 1 1\n",
      "[[-0.70476727]\n",
      " [ 0.02031591]] \n",
      " [[-0.31522   ]\n",
      " [-0.09543331]]\n",
      "Iteration:  0  Error:  59.25724089345954\n",
      "Iteration:  1  Error:  58.17996876799058\n",
      "Iteration:  2  Error:  56.078417399985604\n",
      "Iteration:  3  Error:  53.056082094804076\n",
      "Iteration:  4  Error:  49.262072454749514\n",
      "Iteration:  5  Error:  44.88401399270803\n",
      "Iteration:  6  Error:  40.13902372422522\n",
      "Iteration:  7  Error:  35.26314098102702\n",
      "Iteration:  8  Error:  30.499686851836675\n",
      "Iteration:  9  Error:  26.08710528233966\n",
      "Iteration:  10  Error:  22.246896577835535\n",
      "Iteration:  11  Error:  19.17228036912596\n",
      "Iteration:  12  Error:  17.01821228675163\n",
      "Iteration:  13  Error:  15.893322373823882\n",
      "Iteration:  14  Error:  15.854244091684894\n",
      "Iteration:  15  Error:  16.902666238595128\n",
      "Iteration:  16  Error:  18.985276542526567\n",
      "Iteration:  17  Error:  21.996588906446924\n",
      "Iteration:  18  Error:  25.78447169824537\n",
      "Iteration:  19  Error:  30.158037035842373\n"
     ]
    }
   ],
   "source": [
    "import numpy as np\n",
    "\n",
    "class mlp:\n",
    "    def __init__(self,inputs,targets,nhidden,outtype='linear'):\n",
    "        # Network size\n",
    "        self.nin = np.shape(inputs)[1]\n",
    "        self.nout = np.shape(targets)[1]\n",
    "        self.ndata = np.shape(inputs)[0]\n",
    "        self.nhidden = nhidden\n",
    "\n",
    "        self.outtype = outtype\n",
    "        # Initialise network\n",
    "        self.weights1 = (np.random.rand(self.nin+1,self.nhidden)-0.5)*2/np.sqrt(self.nin)\n",
    "        self.weights2 = (np.random.rand(self.nhidden+1,self.nout)-0.5)*2/np.sqrt(self.nhidden)\n",
    "        print(self.nin, self.nhidden,self.nout)\n",
    "        print(self.weights1,'\\n',self.weights2 )\n",
    "        \n",
    "    def train(self,inputs,targets,eta,niterations):\n",
    "        # Add the inputs that match the bias node\n",
    "        inputs = np.concatenate((inputs,-np.ones((self.ndata,1))),axis=1)\n",
    "\n",
    "    \n",
    "        updatew1 = np.zeros((np.shape(self.weights1)))\n",
    "        updatew2 = np.zeros((np.shape(self.weights2)))\n",
    "            \n",
    "        for n in range(niterations):\n",
    "    \n",
    "            self.outputs = self.mlpfwd(inputs)\n",
    "\n",
    "            error = 0.5*np.sum((self.outputs-targets)**2)\n",
    "\n",
    "            print(\"Iteration: \",n, \" Error: \",error)    \n",
    "\n",
    "            # Different types of output neurons\n",
    "            if self.outtype == 'linear':\n",
    "                deltao = (self.outputs-targets)/self.ndata\n",
    "\n",
    "            \n",
    "            deltah = self.hidden*(1.0-self.hidden)*(np.dot(deltao,np.transpose(self.weights2)))\n",
    "                      \n",
    "            updatew1 = eta*(np.dot(np.transpose(inputs),deltah[:,:-1])) +updatew1\n",
    "            updatew2 = eta*(np.dot(np.transpose(self.hidden),deltao)) + updatew2\n",
    "            self.weights1 -= updatew1\n",
    "            self.weights2 -= updatew2\n",
    "\n",
    "    def mlpfwd(self,inputs):\n",
    "\n",
    "\n",
    "        self.hidden = np.dot(inputs,self.weights1);\n",
    "        self.hidden = 1.0/(1.0+np.exp(self.hidden))\n",
    "        self.hidden = np.concatenate((self.hidden,-np.ones((np.shape(inputs)[0],1))),axis=1)\n",
    "\n",
    "        outputs = np.dot(self.hidden,self.weights2);\n",
    "\n",
    "        # Different types of output neurons\n",
    "        if self.outtype == 'linear':\n",
    "            return outputs\n",
    "\n",
    "        \n",
    "\n",
    "m = mlp(x_train.T,y_train.T,1)\n",
    "m.train(x_train.T, y_train.T, 0.01,20)"
   ]
  }
 ],
 "metadata": {
  "kernelspec": {
   "display_name": "Python 3",
   "language": "python",
   "name": "python3"
  },
  "language_info": {
   "codemirror_mode": {
    "name": "ipython",
    "version": 3
   },
   "file_extension": ".py",
   "mimetype": "text/x-python",
   "name": "python",
   "nbconvert_exporter": "python",
   "pygments_lexer": "ipython3",
   "version": "3.6.6"
  }
 },
 "nbformat": 4,
 "nbformat_minor": 2
}
