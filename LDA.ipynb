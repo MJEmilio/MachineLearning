{
 "cells": [
  {
   "cell_type": "markdown",
   "metadata": {},
   "source": [
    "# Linear Discriminant Analysis (LDA)\n",
    "- The covariance matrix can tell us about the scatter within a dataset, which is the amount of spread that there is within the data. The way to find this scatter is to multiply\n",
    "the covariance by the $p_c$ , the probability of the class (that is, the number of datapoints\n",
    "there are in that class divided by the total number). Adding the values of this for all of the\n",
    "classes gives us a measure of the **within-class scatter** of the dataset:\n",
    "\n",
    "\\begin{equation}\n",
    "S_W = \\sum_{c \\in classes} \\sum_{j \\in c} p_c(x_j - \\mu_c)(x_j - \\mu_c)^T .\n",
    "\\end{equation}"
   ]
  },
  {
   "cell_type": "code",
   "execution_count": 1,
   "metadata": {},
   "outputs": [],
   "source": [
    "import numpy as np\n",
    "import matplotlib.pyplot as plt\n",
    "import matplotlib as mpl\n",
    "mpl.rcParams['figure.figsize'] = 3, 2\n",
    "mpl.rcParams['figure.dpi'] = 150\n",
    "mpl.rcParams['font.size'] = 8"
   ]
  },
  {
   "cell_type": "code",
   "execution_count": 2,
   "metadata": {},
   "outputs": [
    {
     "name": "stdout",
     "output_type": "stream",
     "text": [
      "Sw: \n",
      "[[0.04141633 0.03343265 0.00537959 0.00351565]\n",
      " [0.03343265 0.0483932  0.00389388 0.00381224]\n",
      " [0.00537959 0.00389388 0.01003537 0.00189932]\n",
      " [0.00351565 0.00381224 0.00189932 0.00383129]]\n",
      "Sw: \n",
      "[[0.13022721 0.06182721 0.06634558 0.02210884]\n",
      " [0.06182721 0.08121633 0.0314449  0.01754694]\n",
      " [0.06634558 0.0314449  0.08364082 0.02626667]\n",
      " [0.02210884 0.01754694 0.02626667 0.01686667]]\n",
      "Sw: \n",
      "[[0.26500816 0.09308163 0.16744218 0.03847347]\n",
      " [0.09308163 0.11588435 0.0552381  0.03342313]\n",
      " [0.16744218 0.0552381  0.18517007 0.0425415 ]\n",
      " [0.03847347 0.03342313 0.0425415  0.04201088]]\n",
      "sb\n",
      "[[ 0.42141422 -0.13022667  1.10109778  0.47575378]\n",
      " [-0.13022667  0.073184   -0.37370133 -0.14994933]\n",
      " [ 1.10109778 -0.37370133  2.91095822  1.24605422]\n",
      " [ 0.47575378 -0.14994933  1.24605422  0.53736089]] \n",
      "\n",
      "[[ 0.42068535 -0.13235009  1.10624015  0.47843033]\n",
      " [-0.13235009  0.07211967 -0.37695085 -0.15140434]\n",
      " [ 1.10624015 -0.37695085  2.92800935  1.25384598]\n",
      " [ 0.47843033 -0.15140434  1.25384598  0.54040343]]\n"
     ]
    }
   ],
   "source": [
    "from sklearn import datasets\n",
    "\n",
    "iris = datasets.load_iris()\n",
    "data = iris.data\n",
    "labels = iris.target\n",
    "target_ids = np.unique(labels)#labels = array([0, 1, 2])\n",
    "Ndata = np.shape(data)[0]\n",
    "Sw = np.zeros((4, 4))\n",
    "sb = 0\n",
    "mc = np.mean(data, axis=0)\n",
    "\n",
    "C = np.cov(np.transpose(data))\n",
    "# Loop over classes\n",
    "classes = np.unique(labels)\n",
    "for i in range(len(classes)):\n",
    "# Find relevant datapoints\n",
    "    indices = np.squeeze(np.where(labels==classes[i]))\n",
    "    d = np.squeeze(data[indices,:])\n",
    "    classcov = np.cov(d.T)\n",
    "    Sw += np.float(np.shape(indices)[0])/Ndata * classcov\n",
    "    m = np.mean(d, axis=0)\n",
    "    sb += np.dot( (m-mc).reshape(4,1) , (m-mc).reshape(1,4) )/3\n",
    "    print 'Sw: \\n',Sw\n",
    "\n",
    "print 'sb\\n',sb,'\\n'\n",
    "print C - Sw"
   ]
  },
  {
   "cell_type": "markdown",
   "metadata": {},
   "source": [
    "If our dataset is easy to separate into classes, then this within-class scatter should be\n",
    "small, so that each class is tightly clustered together. However, to be able to separate the\n",
    "data, we also want the distance between the classes to be large. This is known as the **between-\n",
    "classes scatter** and is a significantly simpler computation, simply looking at the difference\n",
    "in the means:\n",
    "\n",
    "\\begin{equation}\n",
    "S_B = \\sum_{c \\in classes} (\\mu_c - \\mu)(\\mu_c - \\mu)^T .\n",
    "\\end{equation}\n"
   ]
  },
  {
   "cell_type": "code",
   "execution_count": 3,
   "metadata": {},
   "outputs": [],
   "source": [
    "Sb = C - Sw"
   ]
  },
  {
   "cell_type": "markdown",
   "metadata": {},
   "source": [
    "The argument about good separation suggests that datasets that are easy to separate into the different classes\n",
    "should have  $S_B /S_W$ as large as possible.\n",
    "\n",
    "The projection of\n",
    "the data can be written as $z = w^T \\cdot x$ for datapoint $x$. \n",
    "\n",
    "Replacing $x_j$ with $w^T \\cdot x_j$, we can use some linear algebra to get:\n",
    "\n",
    "\\begin{equation}\n",
    "\\sum_{c \\in classes} \\sum_{j \\in c}\n",
    "p_c(w^T \\cdot (x_j - \\mu_c))(w^{T} \\cdot (x_j - \\mu_c))^T = w^T S_W w\n",
    "\\end{equation}\n",
    "\n",
    "\\begin{equation}\n",
    "\\sum_{c \\in classes}\n",
    "w^T (\\mu_c - \\mu)(\\mu_c - \\mu)^Tw = w^T S_B w .\n",
    "\\end{equation}\n",
    "\n",
    "So our ratio of within-class and between-class scatter looks like:\n",
    "\n",
    "\\begin{equation}\n",
    "\\frac{w^T S_W w}{w^T S_B w}.\n",
    "\\end{equation}\n",
    "\n",
    "In order to find the maximum value of this with respect to $w$, we differentiate it and set\n",
    "the derivative equal to 0. This tells us that:\n",
    "\n",
    "\\begin{equation}\n",
    "\\frac{S_B w(w^TS_W w)-S_W w(w^T S_B w)}{(w^T S_W w)^2}S_B w = 0 .\n",
    "\\end{equation}\n",
    "\n",
    "So we just need to solve this equation for w and we are done. We start with a little bit\n",
    "of rearranging to get:\n",
    "\n",
    "\\begin{equation}\n",
    "S_Ww = \\frac{w^T S_W w}{w^T S_B w}S_B w.\n",
    "\\end{equation}\n",
    "\n",
    "Finding the minimum requires computing the generalised eigenvectors of $S_W^{-1} S_B$"
   ]
  },
  {
   "cell_type": "code",
   "execution_count": 4,
   "metadata": {},
   "outputs": [
    {
     "name": "stdout",
     "output_type": "stream",
     "text": [
      "[[ -2.99753234   1.03446995  -7.91107272  -3.37888911]\n",
      " [ -5.54545658   2.11017676 -14.90561732  -6.29698729]\n",
      " [  7.92118614  -2.82697492  21.06840824   8.97631876]\n",
      " [ 10.52401558  -3.36743571  27.61482325  11.87787436]]\n"
     ]
    }
   ],
   "source": [
    "evals,evecs = np.linalg.eig(np.linalg.inv(Sw).dot(Sb))\n",
    "print np.linalg.inv(Sw).dot(Sb)"
   ]
  },
  {
   "cell_type": "code",
   "execution_count": 5,
   "metadata": {},
   "outputs": [
    {
     "name": "stdout",
     "output_type": "stream",
     "text": [
      "[[ 19.36739692   1.90793526  -7.45325919 -15.59113551]\n",
      " [ -4.57143335  -0.33690072   1.77846921   3.80794739]\n",
      " [ -8.90087313  -0.84024502   3.42328384   7.20521713]\n",
      " [ 15.4052517    1.49874302  -5.92678847 -12.44453673]]\n"
     ]
    }
   ],
   "source": [
    "print evecs.dot(np.linalg.inv(Sw).dot(Sb)).dot(evecs.T)"
   ]
  },
  {
   "cell_type": "code",
   "execution_count": 6,
   "metadata": {},
   "outputs": [
    {
     "name": "stdout",
     "output_type": "stream",
     "text": [
      "[[ 3.18253543e+01  6.95652174e+00 -3.20000000e+01 -0.00000000e+00]\n",
      " [ 7.57038123e+00  2.60418315e-01  1.42224013e-01  2.12365591e-01]\n",
      " [-5.00312500e+01  1.40650141e-01 -1.34228188e-02 -1.34228188e-02]\n",
      " [-1.92857143e+00  2.72255068e-01 -1.34228188e-02 -1.34228188e-02]]\n"
     ]
    }
   ],
   "source": [
    "print evecs.T.dot(Sb).dot(evecs)/evecs.T.dot(Sw).dot(evecs)"
   ]
  },
  {
   "cell_type": "code",
   "execution_count": 7,
   "metadata": {},
   "outputs": [
    {
     "data": {
      "text/plain": [
       "array([ 3.18253543e+01,  2.60418315e-01, -1.34228188e-02, -1.34228188e-02])"
      ]
     },
     "execution_count": 7,
     "metadata": {},
     "output_type": "execute_result"
    }
   ],
   "source": [
    "evals"
   ]
  },
  {
   "cell_type": "code",
   "execution_count": 8,
   "metadata": {},
   "outputs": [
    {
     "data": {
      "image/png": "[encoded data removed]",
      "text/plain": [
       "<Figure size 432x288 with 1 Axes>"
      ]
     },
     "metadata": {},
     "output_type": "display_data"
    }
   ],
   "source": [
    "evals,evecs = np.linalg.eig(np.linalg.inv(Sw).dot(Sb))\n",
    "indices = np.argsort(evals)\n",
    "indices = indices[::-1]\n",
    "evecs = evecs[:,indices]\n",
    "evals = evals[indices]\n",
    "w = evecs[:,:2]\n",
    "n = np.dot(data,w)\n",
    "\n",
    "colors = ['navy', 'turquoise', 'darkorange']\n",
    "\n",
    "for i, c,label in zip(target_ids, colors, iris.target_names):\n",
    "    plt.scatter(n[i == labels, 0], n[i == labels, 1], c = c,label=label, marker='.')\n",
    "plt.legend()\n",
    "plt.show()"
   ]
  },
  {
   "cell_type": "code",
   "execution_count": 9,
   "metadata": {
    "scrolled": true
   },
   "outputs": [
    {
     "data": {
      "image/png": "[encoded data removed]",
      "text/plain": [
       "<Figure size 432x288 with 1 Axes>"
      ]
     },
     "metadata": {},
     "output_type": "display_data"
    }
   ],
   "source": [
    "from sklearn.discriminant_analysis import LinearDiscriminantAnalysis as lda\n",
    "\n",
    "X = iris.data\n",
    "y = iris.target\n",
    "\n",
    "lda = lda(n_components=2)\n",
    "X_lda = lda.fit(X, y).transform(X)\n",
    "for i, c, label in zip(target_ids, colors,iris.target_names):\n",
    "    plt.scatter(X_lda[i == labels, 0], X_lda[i == labels, 1], c = c,label=label, marker='.')\n",
    "plt.legend()\n",
    "plt.show()"
   ]
  },
  {
   "cell_type": "markdown",
   "metadata": {},
   "source": [
    "## References\n",
    "[\n",
    "Machine Learning: An Algorithmic Perspective: Stephen Marsland ](http://dai.fmph.uniba.sk/courses/ICI/References/marsland.machine-learning.2ed.2015.pdf)"
   ]
  }
 ],
 "metadata": {
  "kernelspec": {
   "display_name": "Python 2",
   "language": "python",
   "name": "python2"
  },
  "language_info": {
   "codemirror_mode": {
    "name": "ipython",
    "version": 2
   },
   "file_extension": ".py",
   "mimetype": "text/x-python",
   "name": "python",
   "nbconvert_exporter": "python",
   "pygments_lexer": "ipython2",
   "version": "2.7.15"
  }
 },
 "nbformat": 4,
 "nbformat_minor": 2
}
